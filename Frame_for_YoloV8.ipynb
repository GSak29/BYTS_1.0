{
  "cells": [
    {
      "cell_type": "markdown",
      "metadata": {
        "id": "8nhuoTK1pSIV"
      },
      "source": [
        "# ***Dataset Arrangement***"
      ]
    },
    {
      "cell_type": "code",
      "execution_count": null,
      "metadata": {
        "colab": {
          "base_uri": "https://localhost:8080/"
        },
        "collapsed": true,
        "id": "rihkyFSWpRwp",
        "outputId": "46c8d4a9-0ccb-43e9-b672-af9d2626b71d"
      },
      "outputs": [
        {
          "output_type": "stream",
          "name": "stdout",
          "text": [
            "\u001b[33mWARNING: Ignoring invalid distribution ~vidia-cuda-nvrtc-cu12 (/usr/local/lib/python3.11/dist-packages)\u001b[0m\u001b[33m\n",
            "\u001b[0m\u001b[33mWARNING: Ignoring invalid distribution ~vidia-cuda-nvrtc-cu12 (/usr/local/lib/python3.11/dist-packages)\u001b[0m\u001b[33m\n",
            "\u001b[0mCollecting ultralytics\n",
            "  Using cached ultralytics-8.3.107-py3-none-any.whl.metadata (37 kB)\n",
            "Requirement already satisfied: numpy<=2.1.1,>=1.23.0 in /usr/local/lib/python3.11/dist-packages (from ultralytics) (2.0.2)\n",
            "Requirement already satisfied: matplotlib>=3.3.0 in /usr/local/lib/python3.11/dist-packages (from ultralytics) (3.10.0)\n",
            "Requirement already satisfied: opencv-python>=4.6.0 in /usr/local/lib/python3.11/dist-packages (from ultralytics) (4.11.0.86)\n",
            "Requirement already satisfied: pillow>=7.1.2 in /usr/local/lib/python3.11/dist-packages (from ultralytics) (11.1.0)\n",
            "Requirement already satisfied: pyyaml>=5.3.1 in /usr/local/lib/python3.11/dist-packages (from ultralytics) (6.0.2)\n",
            "Requirement already satisfied: requests>=2.23.0 in /usr/local/lib/python3.11/dist-packages (from ultralytics) (2.32.3)\n",
            "Requirement already satisfied: scipy>=1.4.1 in /usr/local/lib/python3.11/dist-packages (from ultralytics) (1.14.1)\n",
            "Requirement already satisfied: torch>=1.8.0 in /usr/local/lib/python3.11/dist-packages (from ultralytics) (2.6.0+cu124)\n",
            "Requirement already satisfied: torchvision>=0.9.0 in /usr/local/lib/python3.11/dist-packages (from ultralytics) (0.21.0+cu124)\n",
            "Requirement already satisfied: tqdm>=4.64.0 in /usr/local/lib/python3.11/dist-packages (from ultralytics) (4.67.1)\n",
            "Requirement already satisfied: psutil in /usr/local/lib/python3.11/dist-packages (from ultralytics) (5.9.5)\n",
            "Requirement already satisfied: py-cpuinfo in /usr/local/lib/python3.11/dist-packages (from ultralytics) (9.0.0)\n",
            "Requirement already satisfied: pandas>=1.1.4 in /usr/local/lib/python3.11/dist-packages (from ultralytics) (2.2.2)\n",
            "Requirement already satisfied: seaborn>=0.11.0 in /usr/local/lib/python3.11/dist-packages (from ultralytics) (0.13.2)\n",
            "Collecting ultralytics-thop>=2.0.0 (from ultralytics)\n",
            "  Using cached ultralytics_thop-2.0.14-py3-none-any.whl.metadata (9.4 kB)\n",
            "Requirement already satisfied: contourpy>=1.0.1 in /usr/local/lib/python3.11/dist-packages (from matplotlib>=3.3.0->ultralytics) (1.3.1)\n",
            "Requirement already satisfied: cycler>=0.10 in /usr/local/lib/python3.11/dist-packages (from matplotlib>=3.3.0->ultralytics) (0.12.1)\n",
            "Requirement already satisfied: fonttools>=4.22.0 in /usr/local/lib/python3.11/dist-packages (from matplotlib>=3.3.0->ultralytics) (4.57.0)\n",
            "Requirement already satisfied: kiwisolver>=1.3.1 in /usr/local/lib/python3.11/dist-packages (from matplotlib>=3.3.0->ultralytics) (1.4.8)\n",
            "Requirement already satisfied: packaging>=20.0 in /usr/local/lib/python3.11/dist-packages (from matplotlib>=3.3.0->ultralytics) (24.2)\n",
            "Requirement already satisfied: pyparsing>=2.3.1 in /usr/local/lib/python3.11/dist-packages (from matplotlib>=3.3.0->ultralytics) (3.2.3)\n",
            "Requirement already satisfied: python-dateutil>=2.7 in /usr/local/lib/python3.11/dist-packages (from matplotlib>=3.3.0->ultralytics) (2.8.2)\n",
            "Requirement already satisfied: pytz>=2020.1 in /usr/local/lib/python3.11/dist-packages (from pandas>=1.1.4->ultralytics) (2025.2)\n",
            "Requirement already satisfied: tzdata>=2022.7 in /usr/local/lib/python3.11/dist-packages (from pandas>=1.1.4->ultralytics) (2025.2)\n",
            "Requirement already satisfied: charset-normalizer<4,>=2 in /usr/local/lib/python3.11/dist-packages (from requests>=2.23.0->ultralytics) (3.4.1)\n",
            "Requirement already satisfied: idna<4,>=2.5 in /usr/local/lib/python3.11/dist-packages (from requests>=2.23.0->ultralytics) (3.10)\n",
            "Requirement already satisfied: urllib3<3,>=1.21.1 in /usr/local/lib/python3.11/dist-packages (from requests>=2.23.0->ultralytics) (2.3.0)\n",
            "Requirement already satisfied: certifi>=2017.4.17 in /usr/local/lib/python3.11/dist-packages (from requests>=2.23.0->ultralytics) (2025.1.31)\n",
            "Requirement already satisfied: filelock in /usr/local/lib/python3.11/dist-packages (from torch>=1.8.0->ultralytics) (3.18.0)\n",
            "Requirement already satisfied: typing-extensions>=4.10.0 in /usr/local/lib/python3.11/dist-packages (from torch>=1.8.0->ultralytics) (4.13.1)\n",
            "Requirement already satisfied: networkx in /usr/local/lib/python3.11/dist-packages (from torch>=1.8.0->ultralytics) (3.4.2)\n",
            "Requirement already satisfied: jinja2 in /usr/local/lib/python3.11/dist-packages (from torch>=1.8.0->ultralytics) (3.1.6)\n",
            "Requirement already satisfied: fsspec in /usr/local/lib/python3.11/dist-packages (from torch>=1.8.0->ultralytics) (2025.3.2)\n",
            "Collecting nvidia-cuda-nvrtc-cu12==12.4.127 (from torch>=1.8.0->ultralytics)\n",
            "  Using cached nvidia_cuda_nvrtc_cu12-12.4.127-py3-none-manylinux2014_x86_64.whl.metadata (1.5 kB)\n",
            "Requirement already satisfied: nvidia-cuda-runtime-cu12==12.4.127 in /usr/local/lib/python3.11/dist-packages (from torch>=1.8.0->ultralytics) (12.4.127)\n",
            "Collecting nvidia-cuda-cupti-cu12==12.4.127 (from torch>=1.8.0->ultralytics)\n",
            "  Using cached nvidia_cuda_cupti_cu12-12.4.127-py3-none-manylinux2014_x86_64.whl.metadata (1.6 kB)\n",
            "Collecting nvidia-cudnn-cu12==9.1.0.70 (from torch>=1.8.0->ultralytics)\n",
            "  Using cached nvidia_cudnn_cu12-9.1.0.70-py3-none-manylinux2014_x86_64.whl.metadata (1.6 kB)\n",
            "Collecting nvidia-cublas-cu12==12.4.5.8 (from torch>=1.8.0->ultralytics)\n",
            "  Using cached nvidia_cublas_cu12-12.4.5.8-py3-none-manylinux2014_x86_64.whl.metadata (1.5 kB)\n",
            "Requirement already satisfied: nvidia-cufft-cu12==11.2.1.3 in /usr/local/lib/python3.11/dist-packages (from torch>=1.8.0->ultralytics) (11.2.1.3)\n",
            "Requirement already satisfied: nvidia-curand-cu12==10.3.5.147 in /usr/local/lib/python3.11/dist-packages (from torch>=1.8.0->ultralytics) (10.3.5.147)\n",
            "Collecting nvidia-cusolver-cu12==11.6.1.9 (from torch>=1.8.0->ultralytics)\n",
            "  Using cached nvidia_cusolver_cu12-11.6.1.9-py3-none-manylinux2014_x86_64.whl.metadata (1.6 kB)\n",
            "Collecting nvidia-cusparse-cu12==12.3.1.170 (from torch>=1.8.0->ultralytics)\n",
            "  Using cached nvidia_cusparse_cu12-12.3.1.170-py3-none-manylinux2014_x86_64.whl.metadata (1.6 kB)\n",
            "Requirement already satisfied: nvidia-cusparselt-cu12==0.6.2 in /usr/local/lib/python3.11/dist-packages (from torch>=1.8.0->ultralytics) (0.6.2)\n",
            "Requirement already satisfied: nvidia-nccl-cu12==2.21.5 in /usr/local/lib/python3.11/dist-packages (from torch>=1.8.0->ultralytics) (2.21.5)\n",
            "Requirement already satisfied: nvidia-nvtx-cu12==12.4.127 in /usr/local/lib/python3.11/dist-packages (from torch>=1.8.0->ultralytics) (12.4.127)\n",
            "Requirement already satisfied: nvidia-nvjitlink-cu12==12.4.127 in /usr/local/lib/python3.11/dist-packages (from torch>=1.8.0->ultralytics) (12.4.127)\n",
            "Requirement already satisfied: triton==3.2.0 in /usr/local/lib/python3.11/dist-packages (from torch>=1.8.0->ultralytics) (3.2.0)\n",
            "Requirement already satisfied: sympy==1.13.1 in /usr/local/lib/python3.11/dist-packages (from torch>=1.8.0->ultralytics) (1.13.1)\n",
            "Requirement already satisfied: mpmath<1.4,>=1.1.0 in /usr/local/lib/python3.11/dist-packages (from sympy==1.13.1->torch>=1.8.0->ultralytics) (1.3.0)\n",
            "Requirement already satisfied: six>=1.5 in /usr/local/lib/python3.11/dist-packages (from python-dateutil>=2.7->matplotlib>=3.3.0->ultralytics) (1.17.0)\n",
            "Requirement already satisfied: MarkupSafe>=2.0 in /usr/local/lib/python3.11/dist-packages (from jinja2->torch>=1.8.0->ultralytics) (3.0.2)\n",
            "Using cached ultralytics-8.3.107-py3-none-any.whl (974 kB)\n",
            "Using cached nvidia_cublas_cu12-12.4.5.8-py3-none-manylinux2014_x86_64.whl (363.4 MB)\n",
            "Using cached nvidia_cuda_cupti_cu12-12.4.127-py3-none-manylinux2014_x86_64.whl (13.8 MB)\n",
            "Using cached nvidia_cuda_nvrtc_cu12-12.4.127-py3-none-manylinux2014_x86_64.whl (24.6 MB)\n",
            "Using cached nvidia_cudnn_cu12-9.1.0.70-py3-none-manylinux2014_x86_64.whl (664.8 MB)\n",
            "Using cached nvidia_cusolver_cu12-11.6.1.9-py3-none-manylinux2014_x86_64.whl (127.9 MB)\n",
            "Using cached nvidia_cusparse_cu12-12.3.1.170-py3-none-manylinux2014_x86_64.whl (207.5 MB)\n",
            "Using cached ultralytics_thop-2.0.14-py3-none-any.whl (26 kB)\n",
            "\u001b[33mWARNING: Ignoring invalid distribution ~vidia-cuda-nvrtc-cu12 (/usr/local/lib/python3.11/dist-packages)\u001b[0m\u001b[33m\n",
            "\u001b[0mInstalling collected packages: nvidia-cusparse-cu12, nvidia-cuda-nvrtc-cu12, nvidia-cuda-cupti-cu12, nvidia-cublas-cu12, nvidia-cusolver-cu12, nvidia-cudnn-cu12, ultralytics-thop, ultralytics\n",
            "  Attempting uninstall: nvidia-cusparse-cu12\n",
            "\u001b[33m    WARNING: Ignoring invalid distribution ~vidia-cuda-nvrtc-cu12 (/usr/local/lib/python3.11/dist-packages)\u001b[0m\u001b[33m\n",
            "\u001b[0m    Found existing installation: nvidia-cusparse-cu12 12.5.1.3\n",
            "    Uninstalling nvidia-cusparse-cu12-12.5.1.3:\n",
            "      Successfully uninstalled nvidia-cusparse-cu12-12.5.1.3\n",
            "  Attempting uninstall: nvidia-cuda-cupti-cu12\n",
            "    Found existing installation: nvidia-cuda-cupti-cu12 12.5.82\n",
            "    Uninstalling nvidia-cuda-cupti-cu12-12.5.82:\n",
            "      Successfully uninstalled nvidia-cuda-cupti-cu12-12.5.82\n",
            "  Attempting uninstall: nvidia-cublas-cu12\n",
            "    Found existing installation: nvidia-cublas-cu12 12.5.3.2\n",
            "    Uninstalling nvidia-cublas-cu12-12.5.3.2:\n",
            "      Successfully uninstalled nvidia-cublas-cu12-12.5.3.2\n",
            "  Attempting uninstall: nvidia-cusolver-cu12\n",
            "    Found existing installation: nvidia-cusolver-cu12 11.6.3.83\n",
            "    Uninstalling nvidia-cusolver-cu12-11.6.3.83:\n",
            "      Successfully uninstalled nvidia-cusolver-cu12-11.6.3.83\n",
            "  Attempting uninstall: nvidia-cudnn-cu12\n",
            "    Found existing installation: nvidia-cudnn-cu12 9.3.0.75\n",
            "    Uninstalling nvidia-cudnn-cu12-9.3.0.75:\n",
            "      Successfully uninstalled nvidia-cudnn-cu12-9.3.0.75\n",
            "Successfully installed nvidia-cublas-cu12-12.4.5.8 nvidia-cuda-cupti-cu12-12.4.127 nvidia-cuda-nvrtc-cu12-12.4.127 nvidia-cudnn-cu12-9.1.0.70 nvidia-cusolver-cu12-11.6.1.9 nvidia-cusparse-cu12-12.3.1.170 ultralytics-8.3.107 ultralytics-thop-2.0.14\n"
          ]
        }
      ],
      "source": [
        "!pip install ultralytics #calling library in which  model is present"
      ]
    },
    {
      "cell_type": "code",
      "execution_count": null,
      "metadata": {
        "colab": {
          "base_uri": "https://localhost:8080/"
        },
        "id": "aLRLpzw0akJx",
        "outputId": "c13a9595-640f-4cdd-f9ab-50e85f16db1a"
      },
      "outputs": [
        {
          "output_type": "stream",
          "name": "stdout",
          "text": [
            "Mounted at /content/drive\n"
          ]
        }
      ],
      "source": [
        "from google.colab import drive\n",
        "drive.mount('/content/drive')"
      ]
    },
    {
      "cell_type": "code",
      "execution_count": null,
      "metadata": {
        "colab": {
          "base_uri": "https://localhost:8080/"
        },
        "id": "ymYmn4IRu_l9",
        "outputId": "68a952b0-b780-4967-841c-d5532b19f3d2"
      },
      "outputs": [
        {
          "output_type": "stream",
          "name": "stdout",
          "text": [
            "Unzipping completed!\n"
          ]
        }
      ],
      "source": [
        "import zipfile\n",
        "import os\n",
        "\n",
        "# Define the path to the zip file and the extraction directory\n",
        "zip_file_path = '/content/drive/MyDrive/dataset/Hospital.zip'  # Adjust this path\n",
        "extraction_path = '/content/dataset'  # Destination folder\n",
        "\n",
        "# Create the extraction directory if it doesn't exist\n",
        "os.makedirs(extraction_path, exist_ok=True)\n",
        "\n",
        "# Unzip the file\n",
        "with zipfile.ZipFile(zip_file_path, 'r') as zip_ref:\n",
        "    zip_ref.extractall(extraction_path)\n",
        "\n",
        "print(\"Unzipping completed!\")\n"
      ]
    },
    {
      "cell_type": "markdown",
      "metadata": {
        "id": "N262r2a-qNho"
      },
      "source": [
        "# ***Dataset Training***"
      ]
    },
    {
      "cell_type": "code",
      "execution_count": null,
      "metadata": {
        "colab": {
          "base_uri": "https://localhost:8080/"
        },
        "collapsed": true,
        "id": "KLkf00mdu_iW",
        "outputId": "db627802-62ef-408d-a6ca-bbd751c50cc4"
      },
      "outputs": [
        {
          "output_type": "stream",
          "name": "stdout",
          "text": [
            "Creating new Ultralytics Settings v0.0.6 file ✅ \n",
            "View Ultralytics Settings with 'yolo settings' or at '/root/.config/Ultralytics/settings.json'\n",
            "Update Settings with 'yolo settings key=value', i.e. 'yolo settings runs_dir=path/to/dir'. For help see https://docs.ultralytics.com/quickstart/#ultralytics-settings.\n",
            "Downloading https://github.com/ultralytics/assets/releases/download/v8.3.0/yolov8s.pt to 'yolov8s.pt'...\n"
          ]
        },
        {
          "output_type": "stream",
          "name": "stderr",
          "text": [
            "100%|██████████| 21.5M/21.5M [00:00<00:00, 215MB/s]\n"
          ]
        },
        {
          "output_type": "stream",
          "name": "stdout",
          "text": [
            "Ultralytics 8.3.107 🚀 Python-3.11.12 torch-2.6.0+cu124 CUDA:0 (Tesla T4, 15095MiB)\n",
            "\u001b[34m\u001b[1mengine/trainer: \u001b[0mtask=detect, mode=train, model=yolov8s.pt, data=/content/dataset/dataset/data.yaml, epochs=30, time=None, patience=100, batch=16, imgsz=640, save=True, save_period=-1, cache=False, device=None, workers=8, project=None, name=train, exist_ok=False, pretrained=True, optimizer=auto, verbose=True, seed=0, deterministic=True, single_cls=False, rect=False, cos_lr=False, close_mosaic=10, resume=False, amp=True, fraction=1.0, profile=False, freeze=None, multi_scale=False, overlap_mask=True, mask_ratio=4, dropout=0.0, val=True, split=val, save_json=False, conf=None, iou=0.7, max_det=300, half=False, dnn=False, plots=True, source=None, vid_stride=1, stream_buffer=False, visualize=False, augment=False, agnostic_nms=False, classes=None, retina_masks=False, embed=None, show=False, save_frames=False, save_txt=False, save_conf=False, save_crop=False, show_labels=True, show_conf=True, show_boxes=True, line_width=None, format=torchscript, keras=False, optimize=False, int8=False, dynamic=False, simplify=True, opset=None, workspace=None, nms=False, lr0=0.01, lrf=0.01, momentum=0.937, weight_decay=0.0005, warmup_epochs=3.0, warmup_momentum=0.8, warmup_bias_lr=0.1, box=7.5, cls=0.5, dfl=1.5, pose=12.0, kobj=1.0, nbs=64, hsv_h=0.015, hsv_s=0.7, hsv_v=0.4, degrees=0.0, translate=0.1, scale=0.5, shear=0.0, perspective=0.0, flipud=0.0, fliplr=0.5, bgr=0.0, mosaic=1.0, mixup=0.0, copy_paste=0.0, copy_paste_mode=flip, auto_augment=randaugment, erasing=0.4, crop_fraction=1.0, cfg=None, tracker=botsort.yaml, save_dir=runs/detect/train\n",
            "Downloading https://ultralytics.com/assets/Arial.ttf to '/root/.config/Ultralytics/Arial.ttf'...\n"
          ]
        },
        {
          "output_type": "stream",
          "name": "stderr",
          "text": [
            "100%|██████████| 755k/755k [00:00<00:00, 27.1MB/s]\n"
          ]
        },
        {
          "output_type": "stream",
          "name": "stdout",
          "text": [
            "Overriding model.yaml nc=80 with nc=20\n",
            "\n",
            "                   from  n    params  module                                       arguments                     \n",
            "  0                  -1  1       928  ultralytics.nn.modules.conv.Conv             [3, 32, 3, 2]                 \n",
            "  1                  -1  1     18560  ultralytics.nn.modules.conv.Conv             [32, 64, 3, 2]                \n",
            "  2                  -1  1     29056  ultralytics.nn.modules.block.C2f             [64, 64, 1, True]             \n",
            "  3                  -1  1     73984  ultralytics.nn.modules.conv.Conv             [64, 128, 3, 2]               \n",
            "  4                  -1  2    197632  ultralytics.nn.modules.block.C2f             [128, 128, 2, True]           \n",
            "  5                  -1  1    295424  ultralytics.nn.modules.conv.Conv             [128, 256, 3, 2]              \n",
            "  6                  -1  2    788480  ultralytics.nn.modules.block.C2f             [256, 256, 2, True]           \n",
            "  7                  -1  1   1180672  ultralytics.nn.modules.conv.Conv             [256, 512, 3, 2]              \n",
            "  8                  -1  1   1838080  ultralytics.nn.modules.block.C2f             [512, 512, 1, True]           \n",
            "  9                  -1  1    656896  ultralytics.nn.modules.block.SPPF            [512, 512, 5]                 \n",
            " 10                  -1  1         0  torch.nn.modules.upsampling.Upsample         [None, 2, 'nearest']          \n",
            " 11             [-1, 6]  1         0  ultralytics.nn.modules.conv.Concat           [1]                           \n",
            " 12                  -1  1    591360  ultralytics.nn.modules.block.C2f             [768, 256, 1]                 \n",
            " 13                  -1  1         0  torch.nn.modules.upsampling.Upsample         [None, 2, 'nearest']          \n",
            " 14             [-1, 4]  1         0  ultralytics.nn.modules.conv.Concat           [1]                           \n",
            " 15                  -1  1    148224  ultralytics.nn.modules.block.C2f             [384, 128, 1]                 \n",
            " 16                  -1  1    147712  ultralytics.nn.modules.conv.Conv             [128, 128, 3, 2]              \n",
            " 17            [-1, 12]  1         0  ultralytics.nn.modules.conv.Concat           [1]                           \n",
            " 18                  -1  1    493056  ultralytics.nn.modules.block.C2f             [384, 256, 1]                 \n",
            " 19                  -1  1    590336  ultralytics.nn.modules.conv.Conv             [256, 256, 3, 2]              \n",
            " 20             [-1, 9]  1         0  ultralytics.nn.modules.conv.Concat           [1]                           \n",
            " 21                  -1  1   1969152  ultralytics.nn.modules.block.C2f             [768, 512, 1]                 \n",
            " 22        [15, 18, 21]  1   2123788  ultralytics.nn.modules.head.Detect           [20, [128, 256, 512]]         \n",
            "Model summary: 129 layers, 11,143,340 parameters, 11,143,324 gradients, 28.7 GFLOPs\n",
            "\n",
            "Transferred 349/355 items from pretrained weights\n",
            "\u001b[34m\u001b[1mTensorBoard: \u001b[0mStart with 'tensorboard --logdir runs/detect/train', view at http://localhost:6006/\n",
            "Freezing layer 'model.22.dfl.conv.weight'\n",
            "\u001b[34m\u001b[1mAMP: \u001b[0mrunning Automatic Mixed Precision (AMP) checks...\n",
            "Downloading https://github.com/ultralytics/assets/releases/download/v8.3.0/yolo11n.pt to 'yolo11n.pt'...\n"
          ]
        },
        {
          "output_type": "stream",
          "name": "stderr",
          "text": [
            "100%|██████████| 5.35M/5.35M [00:00<00:00, 96.3MB/s]\n"
          ]
        },
        {
          "output_type": "stream",
          "name": "stdout",
          "text": [
            "\u001b[34m\u001b[1mAMP: \u001b[0mchecks passed ✅\n"
          ]
        },
        {
          "output_type": "stream",
          "name": "stderr",
          "text": [
            "\u001b[34m\u001b[1mtrain: \u001b[0mScanning /content/dataset/dataset/train/labels... 3076 images, 0 backgrounds, 0 corrupt: 100%|██████████| 3076/3076 [00:01<00:00, 2482.99it/s]"
          ]
        },
        {
          "output_type": "stream",
          "name": "stdout",
          "text": [
            "\u001b[34m\u001b[1mtrain: \u001b[0mNew cache created: /content/dataset/dataset/train/labels.cache\n"
          ]
        },
        {
          "output_type": "stream",
          "name": "stderr",
          "text": [
            "\n"
          ]
        },
        {
          "output_type": "stream",
          "name": "stdout",
          "text": [
            "\u001b[34m\u001b[1malbumentations: \u001b[0mBlur(p=0.01, blur_limit=(3, 7)), MedianBlur(p=0.01, blur_limit=(3, 7)), ToGray(p=0.01, num_output_channels=3, method='weighted_average'), CLAHE(p=0.01, clip_limit=(1.0, 4.0), tile_grid_size=(8, 8))\n"
          ]
        },
        {
          "output_type": "stream",
          "name": "stderr",
          "text": [
            "\u001b[34m\u001b[1mval: \u001b[0mScanning /content/dataset/dataset/val/labels... 384 images, 0 backgrounds, 0 corrupt: 100%|██████████| 384/384 [00:00<00:00, 783.58it/s]"
          ]
        },
        {
          "output_type": "stream",
          "name": "stdout",
          "text": [
            "\u001b[34m\u001b[1mval: \u001b[0mNew cache created: /content/dataset/dataset/val/labels.cache\n"
          ]
        },
        {
          "output_type": "stream",
          "name": "stderr",
          "text": [
            "\n"
          ]
        },
        {
          "output_type": "stream",
          "name": "stdout",
          "text": [
            "Plotting labels to runs/detect/train/labels.jpg... \n",
            "\u001b[34m\u001b[1moptimizer:\u001b[0m 'optimizer=auto' found, ignoring 'lr0=0.01' and 'momentum=0.937' and determining best 'optimizer', 'lr0' and 'momentum' automatically... \n",
            "\u001b[34m\u001b[1moptimizer:\u001b[0m AdamW(lr=0.000417, momentum=0.9) with parameter groups 57 weight(decay=0.0), 64 weight(decay=0.0005), 63 bias(decay=0.0)\n",
            "\u001b[34m\u001b[1mTensorBoard: \u001b[0mmodel graph visualization added ✅\n",
            "Image sizes 640 train, 640 val\n",
            "Using 2 dataloader workers\n",
            "Logging results to \u001b[1mruns/detect/train\u001b[0m\n",
            "Starting training for 30 epochs...\n",
            "\n",
            "      Epoch    GPU_mem   box_loss   cls_loss   dfl_loss  Instances       Size\n"
          ]
        },
        {
          "output_type": "stream",
          "name": "stderr",
          "text": [
            "       1/30      3.85G      1.164      3.303       1.38          8        640: 100%|██████████| 193/193 [01:06<00:00,  2.91it/s]\n",
            "                 Class     Images  Instances      Box(P          R      mAP50  mAP50-95): 100%|██████████| 12/12 [00:04<00:00,  2.93it/s]"
          ]
        },
        {
          "output_type": "stream",
          "name": "stdout",
          "text": [
            "                   all        384        384       0.88      0.931      0.946      0.748\n"
          ]
        },
        {
          "output_type": "stream",
          "name": "stderr",
          "text": [
            "\n"
          ]
        },
        {
          "output_type": "stream",
          "name": "stdout",
          "text": [
            "\n",
            "      Epoch    GPU_mem   box_loss   cls_loss   dfl_loss  Instances       Size\n"
          ]
        },
        {
          "output_type": "stream",
          "name": "stderr",
          "text": [
            "       2/30      4.45G     0.8971     0.9827      1.177          6        640: 100%|██████████| 193/193 [01:01<00:00,  3.15it/s]\n",
            "                 Class     Images  Instances      Box(P          R      mAP50  mAP50-95): 100%|██████████| 12/12 [00:03<00:00,  3.67it/s]"
          ]
        },
        {
          "output_type": "stream",
          "name": "stdout",
          "text": [
            "                   all        384        384      0.912      0.949      0.964      0.767\n"
          ]
        },
        {
          "output_type": "stream",
          "name": "stderr",
          "text": [
            "\n"
          ]
        },
        {
          "output_type": "stream",
          "name": "stdout",
          "text": [
            "\n",
            "      Epoch    GPU_mem   box_loss   cls_loss   dfl_loss  Instances       Size\n"
          ]
        },
        {
          "output_type": "stream",
          "name": "stderr",
          "text": [
            "       3/30       4.5G     0.8607     0.7576       1.16          9        640: 100%|██████████| 193/193 [01:01<00:00,  3.14it/s]\n",
            "                 Class     Images  Instances      Box(P          R      mAP50  mAP50-95): 100%|██████████| 12/12 [00:03<00:00,  3.77it/s]"
          ]
        },
        {
          "output_type": "stream",
          "name": "stdout",
          "text": [
            "                   all        384        384      0.917      0.961      0.961      0.778\n"
          ]
        },
        {
          "output_type": "stream",
          "name": "stderr",
          "text": [
            "\n"
          ]
        },
        {
          "output_type": "stream",
          "name": "stdout",
          "text": [
            "\n",
            "      Epoch    GPU_mem   box_loss   cls_loss   dfl_loss  Instances       Size\n"
          ]
        },
        {
          "output_type": "stream",
          "name": "stderr",
          "text": [
            "       4/30      4.54G     0.8329     0.6761      1.135          7        640: 100%|██████████| 193/193 [01:00<00:00,  3.17it/s]\n",
            "                 Class     Images  Instances      Box(P          R      mAP50  mAP50-95): 100%|██████████| 12/12 [00:03<00:00,  3.46it/s]"
          ]
        },
        {
          "output_type": "stream",
          "name": "stdout",
          "text": [
            "                   all        384        384      0.953      0.966      0.975       0.79\n"
          ]
        },
        {
          "output_type": "stream",
          "name": "stderr",
          "text": [
            "\n"
          ]
        },
        {
          "output_type": "stream",
          "name": "stdout",
          "text": [
            "\n",
            "      Epoch    GPU_mem   box_loss   cls_loss   dfl_loss  Instances       Size\n"
          ]
        },
        {
          "output_type": "stream",
          "name": "stderr",
          "text": [
            "       5/30      4.58G     0.7871      0.601       1.12         12        640: 100%|██████████| 193/193 [01:00<00:00,  3.17it/s]\n",
            "                 Class     Images  Instances      Box(P          R      mAP50  mAP50-95): 100%|██████████| 12/12 [00:03<00:00,  3.74it/s]"
          ]
        },
        {
          "output_type": "stream",
          "name": "stdout",
          "text": [
            "                   all        384        384      0.961       0.97      0.983      0.809\n"
          ]
        },
        {
          "output_type": "stream",
          "name": "stderr",
          "text": [
            "\n"
          ]
        },
        {
          "output_type": "stream",
          "name": "stdout",
          "text": [
            "\n",
            "      Epoch    GPU_mem   box_loss   cls_loss   dfl_loss  Instances       Size\n"
          ]
        },
        {
          "output_type": "stream",
          "name": "stderr",
          "text": [
            "       6/30       4.6G     0.7762     0.5412      1.104          8        640: 100%|██████████| 193/193 [01:00<00:00,  3.18it/s]\n",
            "                 Class     Images  Instances      Box(P          R      mAP50  mAP50-95): 100%|██████████| 12/12 [00:03<00:00,  3.35it/s]"
          ]
        },
        {
          "output_type": "stream",
          "name": "stdout",
          "text": [
            "                   all        384        384       0.96      0.975      0.978      0.798\n"
          ]
        },
        {
          "output_type": "stream",
          "name": "stderr",
          "text": [
            "\n"
          ]
        },
        {
          "output_type": "stream",
          "name": "stdout",
          "text": [
            "\n",
            "      Epoch    GPU_mem   box_loss   cls_loss   dfl_loss  Instances       Size\n"
          ]
        },
        {
          "output_type": "stream",
          "name": "stderr",
          "text": [
            "       7/30      4.65G     0.7446     0.5121      1.099          8        640: 100%|██████████| 193/193 [01:01<00:00,  3.16it/s]\n",
            "                 Class     Images  Instances      Box(P          R      mAP50  mAP50-95): 100%|██████████| 12/12 [00:03<00:00,  3.75it/s]"
          ]
        },
        {
          "output_type": "stream",
          "name": "stdout",
          "text": [
            "                   all        384        384      0.971      0.973       0.98      0.816\n"
          ]
        },
        {
          "output_type": "stream",
          "name": "stderr",
          "text": [
            "\n"
          ]
        },
        {
          "output_type": "stream",
          "name": "stdout",
          "text": [
            "\n",
            "      Epoch    GPU_mem   box_loss   cls_loss   dfl_loss  Instances       Size\n"
          ]
        },
        {
          "output_type": "stream",
          "name": "stderr",
          "text": [
            "       8/30      4.68G     0.7483     0.4826      1.099          6        640: 100%|██████████| 193/193 [01:00<00:00,  3.20it/s]\n",
            "                 Class     Images  Instances      Box(P          R      mAP50  mAP50-95): 100%|██████████| 12/12 [00:03<00:00,  3.64it/s]"
          ]
        },
        {
          "output_type": "stream",
          "name": "stdout",
          "text": [
            "                   all        384        384       0.95      0.981      0.984      0.824\n"
          ]
        },
        {
          "output_type": "stream",
          "name": "stderr",
          "text": [
            "\n"
          ]
        },
        {
          "output_type": "stream",
          "name": "stdout",
          "text": [
            "\n",
            "      Epoch    GPU_mem   box_loss   cls_loss   dfl_loss  Instances       Size\n"
          ]
        },
        {
          "output_type": "stream",
          "name": "stderr",
          "text": [
            "       9/30      4.72G     0.7273     0.4675      1.082          8        640: 100%|██████████| 193/193 [01:00<00:00,  3.19it/s]\n",
            "                 Class     Images  Instances      Box(P          R      mAP50  mAP50-95): 100%|██████████| 12/12 [00:03<00:00,  3.71it/s]"
          ]
        },
        {
          "output_type": "stream",
          "name": "stdout",
          "text": [
            "                   all        384        384      0.967      0.982      0.983      0.827\n"
          ]
        },
        {
          "output_type": "stream",
          "name": "stderr",
          "text": [
            "\n"
          ]
        },
        {
          "output_type": "stream",
          "name": "stdout",
          "text": [
            "\n",
            "      Epoch    GPU_mem   box_loss   cls_loss   dfl_loss  Instances       Size\n"
          ]
        },
        {
          "output_type": "stream",
          "name": "stderr",
          "text": [
            "      10/30      4.74G     0.7151     0.4583      1.078          7        640: 100%|██████████| 193/193 [01:00<00:00,  3.20it/s]\n",
            "                 Class     Images  Instances      Box(P          R      mAP50  mAP50-95): 100%|██████████| 12/12 [00:03<00:00,  3.66it/s]"
          ]
        },
        {
          "output_type": "stream",
          "name": "stdout",
          "text": [
            "                   all        384        384      0.983      0.976      0.985      0.844\n"
          ]
        },
        {
          "output_type": "stream",
          "name": "stderr",
          "text": [
            "\n"
          ]
        },
        {
          "output_type": "stream",
          "name": "stdout",
          "text": [
            "\n",
            "      Epoch    GPU_mem   box_loss   cls_loss   dfl_loss  Instances       Size\n"
          ]
        },
        {
          "output_type": "stream",
          "name": "stderr",
          "text": [
            "      11/30      4.79G     0.6868     0.4264      1.062          6        640: 100%|██████████| 193/193 [01:01<00:00,  3.14it/s]\n",
            "                 Class     Images  Instances      Box(P          R      mAP50  mAP50-95): 100%|██████████| 12/12 [00:03<00:00,  3.64it/s]"
          ]
        },
        {
          "output_type": "stream",
          "name": "stdout",
          "text": [
            "                   all        384        384       0.97      0.984      0.986      0.839\n"
          ]
        },
        {
          "output_type": "stream",
          "name": "stderr",
          "text": [
            "\n"
          ]
        },
        {
          "output_type": "stream",
          "name": "stdout",
          "text": [
            "\n",
            "      Epoch    GPU_mem   box_loss   cls_loss   dfl_loss  Instances       Size\n"
          ]
        },
        {
          "output_type": "stream",
          "name": "stderr",
          "text": [
            "      12/30      4.83G     0.6954     0.4232      1.067          9        640: 100%|██████████| 193/193 [00:59<00:00,  3.22it/s]\n",
            "                 Class     Images  Instances      Box(P          R      mAP50  mAP50-95): 100%|██████████| 12/12 [00:03<00:00,  3.93it/s]"
          ]
        },
        {
          "output_type": "stream",
          "name": "stdout",
          "text": [
            "                   all        384        384      0.979      0.984      0.991      0.845\n"
          ]
        },
        {
          "output_type": "stream",
          "name": "stderr",
          "text": [
            "\n"
          ]
        },
        {
          "output_type": "stream",
          "name": "stdout",
          "text": [
            "\n",
            "      Epoch    GPU_mem   box_loss   cls_loss   dfl_loss  Instances       Size\n"
          ]
        },
        {
          "output_type": "stream",
          "name": "stderr",
          "text": [
            "      13/30      4.87G     0.6719     0.3968      1.054          8        640: 100%|██████████| 193/193 [00:59<00:00,  3.22it/s]\n",
            "                 Class     Images  Instances      Box(P          R      mAP50  mAP50-95): 100%|██████████| 12/12 [00:03<00:00,  3.31it/s]"
          ]
        },
        {
          "output_type": "stream",
          "name": "stdout",
          "text": [
            "                   all        384        384      0.982      0.988      0.989      0.841\n"
          ]
        },
        {
          "output_type": "stream",
          "name": "stderr",
          "text": [
            "\n"
          ]
        },
        {
          "output_type": "stream",
          "name": "stdout",
          "text": [
            "\n",
            "      Epoch    GPU_mem   box_loss   cls_loss   dfl_loss  Instances       Size\n"
          ]
        },
        {
          "output_type": "stream",
          "name": "stderr",
          "text": [
            "      14/30      4.89G     0.6678     0.3889      1.054          5        640: 100%|██████████| 193/193 [00:59<00:00,  3.24it/s]\n",
            "                 Class     Images  Instances      Box(P          R      mAP50  mAP50-95): 100%|██████████| 12/12 [00:03<00:00,  3.80it/s]"
          ]
        },
        {
          "output_type": "stream",
          "name": "stdout",
          "text": [
            "                   all        384        384      0.966      0.981      0.989      0.842\n"
          ]
        },
        {
          "output_type": "stream",
          "name": "stderr",
          "text": [
            "\n"
          ]
        },
        {
          "output_type": "stream",
          "name": "stdout",
          "text": [
            "\n",
            "      Epoch    GPU_mem   box_loss   cls_loss   dfl_loss  Instances       Size\n"
          ]
        },
        {
          "output_type": "stream",
          "name": "stderr",
          "text": [
            "      15/30      4.94G     0.6746     0.3897      1.053          6        640: 100%|██████████| 193/193 [01:00<00:00,  3.17it/s]\n",
            "                 Class     Images  Instances      Box(P          R      mAP50  mAP50-95): 100%|██████████| 12/12 [00:03<00:00,  3.13it/s]"
          ]
        },
        {
          "output_type": "stream",
          "name": "stdout",
          "text": [
            "                   all        384        384      0.981      0.984      0.987      0.837\n"
          ]
        },
        {
          "output_type": "stream",
          "name": "stderr",
          "text": [
            "\n"
          ]
        },
        {
          "output_type": "stream",
          "name": "stdout",
          "text": [
            "\n",
            "      Epoch    GPU_mem   box_loss   cls_loss   dfl_loss  Instances       Size\n"
          ]
        },
        {
          "output_type": "stream",
          "name": "stderr",
          "text": [
            "      16/30      4.97G     0.6393     0.3726      1.033          9        640: 100%|██████████| 193/193 [01:00<00:00,  3.20it/s]\n",
            "                 Class     Images  Instances      Box(P          R      mAP50  mAP50-95): 100%|██████████| 12/12 [00:03<00:00,  3.87it/s]"
          ]
        },
        {
          "output_type": "stream",
          "name": "stdout",
          "text": [
            "                   all        384        384      0.974      0.985      0.986      0.855\n"
          ]
        },
        {
          "output_type": "stream",
          "name": "stderr",
          "text": [
            "\n"
          ]
        },
        {
          "output_type": "stream",
          "name": "stdout",
          "text": [
            "\n",
            "      Epoch    GPU_mem   box_loss   cls_loss   dfl_loss  Instances       Size\n"
          ]
        },
        {
          "output_type": "stream",
          "name": "stderr",
          "text": [
            "      17/30      5.01G     0.6366     0.3601      1.033          9        640: 100%|██████████| 193/193 [01:00<00:00,  3.19it/s]\n",
            "                 Class     Images  Instances      Box(P          R      mAP50  mAP50-95): 100%|██████████| 12/12 [00:04<00:00,  2.91it/s]"
          ]
        },
        {
          "output_type": "stream",
          "name": "stdout",
          "text": [
            "                   all        384        384      0.982      0.989      0.988      0.851\n"
          ]
        },
        {
          "output_type": "stream",
          "name": "stderr",
          "text": [
            "\n"
          ]
        },
        {
          "output_type": "stream",
          "name": "stdout",
          "text": [
            "\n",
            "      Epoch    GPU_mem   box_loss   cls_loss   dfl_loss  Instances       Size\n"
          ]
        },
        {
          "output_type": "stream",
          "name": "stderr",
          "text": [
            "      18/30      5.03G     0.6331     0.3642      1.039          6        640: 100%|██████████| 193/193 [01:00<00:00,  3.20it/s]\n",
            "                 Class     Images  Instances      Box(P          R      mAP50  mAP50-95): 100%|██████████| 12/12 [00:03<00:00,  3.75it/s]"
          ]
        },
        {
          "output_type": "stream",
          "name": "stdout",
          "text": [
            "                   all        384        384      0.983      0.975       0.99      0.851\n"
          ]
        },
        {
          "output_type": "stream",
          "name": "stderr",
          "text": [
            "\n"
          ]
        },
        {
          "output_type": "stream",
          "name": "stdout",
          "text": [
            "\n",
            "      Epoch    GPU_mem   box_loss   cls_loss   dfl_loss  Instances       Size\n"
          ]
        },
        {
          "output_type": "stream",
          "name": "stderr",
          "text": [
            "      19/30      5.08G     0.6201     0.3488      1.032          8        640: 100%|██████████| 193/193 [01:00<00:00,  3.18it/s]\n",
            "                 Class     Images  Instances      Box(P          R      mAP50  mAP50-95): 100%|██████████| 12/12 [00:04<00:00,  2.97it/s]"
          ]
        },
        {
          "output_type": "stream",
          "name": "stdout",
          "text": [
            "                   all        384        384      0.983      0.983      0.988      0.855\n"
          ]
        },
        {
          "output_type": "stream",
          "name": "stderr",
          "text": [
            "\n"
          ]
        },
        {
          "output_type": "stream",
          "name": "stdout",
          "text": [
            "\n",
            "      Epoch    GPU_mem   box_loss   cls_loss   dfl_loss  Instances       Size\n"
          ]
        },
        {
          "output_type": "stream",
          "name": "stderr",
          "text": [
            "      20/30      5.12G     0.6008     0.3335      1.015         11        640: 100%|██████████| 193/193 [01:00<00:00,  3.20it/s]\n",
            "                 Class     Images  Instances      Box(P          R      mAP50  mAP50-95): 100%|██████████| 12/12 [00:03<00:00,  3.85it/s]"
          ]
        },
        {
          "output_type": "stream",
          "name": "stdout",
          "text": [
            "                   all        384        384       0.98      0.987      0.989       0.85\n"
          ]
        },
        {
          "output_type": "stream",
          "name": "stderr",
          "text": [
            "\n"
          ]
        },
        {
          "output_type": "stream",
          "name": "stdout",
          "text": [
            "Closing dataloader mosaic\n",
            "\u001b[34m\u001b[1malbumentations: \u001b[0mBlur(p=0.01, blur_limit=(3, 7)), MedianBlur(p=0.01, blur_limit=(3, 7)), ToGray(p=0.01, num_output_channels=3, method='weighted_average'), CLAHE(p=0.01, clip_limit=(1.0, 4.0), tile_grid_size=(8, 8))\n",
            "\n",
            "      Epoch    GPU_mem   box_loss   cls_loss   dfl_loss  Instances       Size\n"
          ]
        },
        {
          "output_type": "stream",
          "name": "stderr",
          "text": [
            "      21/30      5.15G     0.5465     0.2807      1.026          4        640: 100%|██████████| 193/193 [01:01<00:00,  3.15it/s]\n",
            "                 Class     Images  Instances      Box(P          R      mAP50  mAP50-95): 100%|██████████| 12/12 [00:03<00:00,  3.29it/s]"
          ]
        },
        {
          "output_type": "stream",
          "name": "stdout",
          "text": [
            "                   all        384        384      0.985      0.985      0.988      0.857\n"
          ]
        },
        {
          "output_type": "stream",
          "name": "stderr",
          "text": [
            "\n"
          ]
        },
        {
          "output_type": "stream",
          "name": "stdout",
          "text": [
            "\n",
            "      Epoch    GPU_mem   box_loss   cls_loss   dfl_loss  Instances       Size\n"
          ]
        },
        {
          "output_type": "stream",
          "name": "stderr",
          "text": [
            "      22/30      5.18G     0.5312     0.2792      1.008          4        640: 100%|██████████| 193/193 [00:58<00:00,  3.32it/s]\n",
            "                 Class     Images  Instances      Box(P          R      mAP50  mAP50-95): 100%|██████████| 12/12 [00:03<00:00,  3.96it/s]"
          ]
        },
        {
          "output_type": "stream",
          "name": "stdout",
          "text": [
            "                   all        384        384      0.983      0.986      0.991       0.86\n"
          ]
        },
        {
          "output_type": "stream",
          "name": "stderr",
          "text": [
            "\n"
          ]
        },
        {
          "output_type": "stream",
          "name": "stdout",
          "text": [
            "\n",
            "      Epoch    GPU_mem   box_loss   cls_loss   dfl_loss  Instances       Size\n"
          ]
        },
        {
          "output_type": "stream",
          "name": "stderr",
          "text": [
            "      23/30      5.23G     0.5138      0.271      1.004          4        640: 100%|██████████| 193/193 [00:58<00:00,  3.29it/s]\n",
            "                 Class     Images  Instances      Box(P          R      mAP50  mAP50-95): 100%|██████████| 12/12 [00:03<00:00,  3.14it/s]"
          ]
        },
        {
          "output_type": "stream",
          "name": "stdout",
          "text": [
            "                   all        384        384      0.985      0.986       0.99      0.864\n"
          ]
        },
        {
          "output_type": "stream",
          "name": "stderr",
          "text": [
            "\n"
          ]
        },
        {
          "output_type": "stream",
          "name": "stdout",
          "text": [
            "\n",
            "      Epoch    GPU_mem   box_loss   cls_loss   dfl_loss  Instances       Size\n"
          ]
        },
        {
          "output_type": "stream",
          "name": "stderr",
          "text": [
            "      24/30      5.26G     0.5074     0.2571      0.997          4        640: 100%|██████████| 193/193 [00:58<00:00,  3.29it/s]\n",
            "                 Class     Images  Instances      Box(P          R      mAP50  mAP50-95): 100%|██████████| 12/12 [00:03<00:00,  3.81it/s]"
          ]
        },
        {
          "output_type": "stream",
          "name": "stdout",
          "text": [
            "                   all        384        384      0.986      0.986      0.989      0.866\n"
          ]
        },
        {
          "output_type": "stream",
          "name": "stderr",
          "text": [
            "\n"
          ]
        },
        {
          "output_type": "stream",
          "name": "stdout",
          "text": [
            "\n",
            "      Epoch    GPU_mem   box_loss   cls_loss   dfl_loss  Instances       Size\n"
          ]
        },
        {
          "output_type": "stream",
          "name": "stderr",
          "text": [
            "      25/30       5.3G     0.4914     0.2521      0.986          4        640: 100%|██████████| 193/193 [00:58<00:00,  3.30it/s]\n",
            "                 Class     Images  Instances      Box(P          R      mAP50  mAP50-95): 100%|██████████| 12/12 [00:03<00:00,  3.94it/s]"
          ]
        },
        {
          "output_type": "stream",
          "name": "stdout",
          "text": [
            "                   all        384        384      0.986      0.987       0.99      0.867\n"
          ]
        },
        {
          "output_type": "stream",
          "name": "stderr",
          "text": [
            "\n"
          ]
        },
        {
          "output_type": "stream",
          "name": "stdout",
          "text": [
            "\n",
            "      Epoch    GPU_mem   box_loss   cls_loss   dfl_loss  Instances       Size\n"
          ]
        },
        {
          "output_type": "stream",
          "name": "stderr",
          "text": [
            "      26/30      5.32G     0.4812     0.2464     0.9811          4        640: 100%|██████████| 193/193 [00:58<00:00,  3.32it/s]\n",
            "                 Class     Images  Instances      Box(P          R      mAP50  mAP50-95): 100%|██████████| 12/12 [00:04<00:00,  2.93it/s]"
          ]
        },
        {
          "output_type": "stream",
          "name": "stdout",
          "text": [
            "                   all        384        384      0.988      0.986      0.992      0.873\n"
          ]
        },
        {
          "output_type": "stream",
          "name": "stderr",
          "text": [
            "\n"
          ]
        },
        {
          "output_type": "stream",
          "name": "stdout",
          "text": [
            "\n",
            "      Epoch    GPU_mem   box_loss   cls_loss   dfl_loss  Instances       Size\n"
          ]
        },
        {
          "output_type": "stream",
          "name": "stderr",
          "text": [
            "      27/30      5.37G     0.4733      0.239     0.9788          4        640: 100%|██████████| 193/193 [00:58<00:00,  3.31it/s]\n",
            "                 Class     Images  Instances      Box(P          R      mAP50  mAP50-95): 100%|██████████| 12/12 [00:03<00:00,  3.88it/s]"
          ]
        },
        {
          "output_type": "stream",
          "name": "stdout",
          "text": [
            "                   all        384        384      0.985      0.989      0.992      0.877\n"
          ]
        },
        {
          "output_type": "stream",
          "name": "stderr",
          "text": [
            "\n"
          ]
        },
        {
          "output_type": "stream",
          "name": "stdout",
          "text": [
            "\n",
            "      Epoch    GPU_mem   box_loss   cls_loss   dfl_loss  Instances       Size\n"
          ]
        },
        {
          "output_type": "stream",
          "name": "stderr",
          "text": [
            "      28/30      5.66G     0.4647     0.2319     0.9697          4        640: 100%|██████████| 193/193 [00:58<00:00,  3.28it/s]\n",
            "                 Class     Images  Instances      Box(P          R      mAP50  mAP50-95): 100%|██████████| 12/12 [00:03<00:00,  3.83it/s]"
          ]
        },
        {
          "output_type": "stream",
          "name": "stdout",
          "text": [
            "                   all        384        384      0.988      0.992      0.993      0.874\n"
          ]
        },
        {
          "output_type": "stream",
          "name": "stderr",
          "text": [
            "\n"
          ]
        },
        {
          "output_type": "stream",
          "name": "stdout",
          "text": [
            "\n",
            "      Epoch    GPU_mem   box_loss   cls_loss   dfl_loss  Instances       Size\n"
          ]
        },
        {
          "output_type": "stream",
          "name": "stderr",
          "text": [
            "      29/30      5.69G     0.4503     0.2263     0.9645          4        640: 100%|██████████| 193/193 [00:58<00:00,  3.31it/s]\n",
            "                 Class     Images  Instances      Box(P          R      mAP50  mAP50-95): 100%|██████████| 12/12 [00:04<00:00,  2.70it/s]"
          ]
        },
        {
          "output_type": "stream",
          "name": "stdout",
          "text": [
            "                   all        384        384      0.986      0.991      0.991      0.874\n"
          ]
        },
        {
          "output_type": "stream",
          "name": "stderr",
          "text": [
            "\n"
          ]
        },
        {
          "output_type": "stream",
          "name": "stdout",
          "text": [
            "\n",
            "      Epoch    GPU_mem   box_loss   cls_loss   dfl_loss  Instances       Size\n"
          ]
        },
        {
          "output_type": "stream",
          "name": "stderr",
          "text": [
            "      30/30      5.71G     0.4429     0.2213     0.9631          4        640: 100%|██████████| 193/193 [00:58<00:00,  3.29it/s]\n",
            "                 Class     Images  Instances      Box(P          R      mAP50  mAP50-95): 100%|██████████| 12/12 [00:03<00:00,  3.85it/s]"
          ]
        },
        {
          "output_type": "stream",
          "name": "stdout",
          "text": [
            "                   all        384        384      0.989      0.992      0.993      0.874\n"
          ]
        },
        {
          "output_type": "stream",
          "name": "stderr",
          "text": [
            "\n"
          ]
        },
        {
          "output_type": "stream",
          "name": "stdout",
          "text": [
            "\n",
            "30 epochs completed in 0.536 hours.\n",
            "Optimizer stripped from runs/detect/train/weights/last.pt, 22.5MB\n",
            "Optimizer stripped from runs/detect/train/weights/best.pt, 22.5MB\n",
            "\n",
            "Validating runs/detect/train/weights/best.pt...\n",
            "Ultralytics 8.3.107 🚀 Python-3.11.12 torch-2.6.0+cu124 CUDA:0 (Tesla T4, 15095MiB)\n",
            "Model summary (fused): 72 layers, 11,133,324 parameters, 0 gradients, 28.5 GFLOPs\n"
          ]
        },
        {
          "output_type": "stream",
          "name": "stderr",
          "text": [
            "                 Class     Images  Instances      Box(P          R      mAP50  mAP50-95): 100%|██████████| 12/12 [00:04<00:00,  2.54it/s]\n"
          ]
        },
        {
          "output_type": "stream",
          "name": "stdout",
          "text": [
            "                   all        384        384      0.985      0.989      0.992      0.877\n",
            "             Injection         21         21      0.954      0.987      0.993      0.836\n",
            "               Bandaid         14         14      0.983          1      0.995      0.879\n",
            "              Ointment         22         22          1      0.972      0.995      0.909\n",
            "                 Sleep         20         20      0.987          1      0.995      0.903\n",
            "               Surgery         21         21          1          1      0.995      0.848\n",
            "         Physiotherapy         21         21      0.992          1      0.995      0.827\n",
            "           TeethBraces         16         16          1          1      0.995      0.966\n",
            "          Prescription         24         24       0.99          1      0.995       0.86\n",
            "             Nebuliser         22         22          1          1      0.995      0.955\n",
            "                 Fever         14         14       0.98          1      0.995      0.842\n",
            "              Headache         21         21       0.94      0.952      0.968      0.835\n",
            "           BrokenBones         18         18      0.944      0.944      0.955      0.915\n",
            "                  Cold         17         17          1      0.961      0.995       0.87\n",
            "               EarPain         19         19      0.984          1      0.995      0.933\n",
            "           HeartAttack         28         28          1          1      0.995      0.908\n",
            "                Tablet         18         18      0.984          1      0.995      0.796\n",
            "                  Time         18         18      0.986          1      0.995       0.91\n",
            "                   eat         17         17          1          1      0.995      0.912\n",
            "                     I         15         15      0.984          1      0.995      0.886\n",
            "                   you         18         18          1      0.961      0.995      0.741\n",
            "Speed: 0.2ms preprocess, 3.2ms inference, 0.0ms loss, 2.6ms postprocess per image\n",
            "Results saved to \u001b[1mruns/detect/train\u001b[0m\n",
            "Training completed!\n"
          ]
        }
      ],
      "source": [
        "import random\n",
        "from ultralytics import YOLO\n",
        "from PIL import Image\n",
        "import matplotlib.pyplot as plt\n",
        "\n",
        "\n",
        "model = YOLO(\"yolov8s.pt\") #yolo model version8 n\n",
        "\n",
        "# Train the model using the dataset.yaml file\n",
        "results = model.train(\n",
        "    data='/content/dataset/dataset/data.yaml',  # Path to your dataset.yaml file\n",
        "    imgsz=640,            # Image size\n",
        "    epochs=30,             # Number of epochs\n",
        "    batch=16              # Batch size\n",
        ")\n",
        "\n",
        "print(\"Training completed!\")\n",
        "\n"
      ]
    },
    {
      "cell_type": "code",
      "execution_count": null,
      "metadata": {
        "colab": {
          "base_uri": "https://localhost:8080/"
        },
        "id": "mwyNKDGyxSHH",
        "outputId": "e686f98e-380e-413e-d081-b70729f199ec"
      },
      "outputs": [
        {
          "name": "stdout",
          "output_type": "stream",
          "text": [
            "/content/yolo11n.pt\n",
            "/content/yolov8n.pt\n",
            "/content/runs/detect/train2/weights/best.pt\n",
            "/content/runs/detect/train2/weights/last.pt\n",
            "/content/runs/detect/train/weights/best.pt\n",
            "/content/runs/detect/train/weights/last.pt\n",
            "/content/runs/detect/train3/weights/best.pt\n",
            "/content/runs/detect/train3/weights/last.pt\n"
          ]
        }
      ],
      "source": [
        "import os\n",
        "for root, dirs, files in os.walk(\"/content\"):\n",
        "    for file in files:\n",
        "        if file.endswith(\".pt\"):\n",
        "            print(os.path.join(root, file))\n"
      ]
    },
    {
      "cell_type": "markdown",
      "metadata": {
        "id": "t2Z2zWKbr9Bv"
      },
      "source": [
        "# ***Weights Saver***"
      ]
    },
    {
      "cell_type": "code",
      "execution_count": null,
      "metadata": {
        "colab": {
          "base_uri": "https://localhost:8080/",
          "height": 34
        },
        "id": "Dk1QgswVsJ7z",
        "outputId": "df55f5e7-0e7d-42ea-c4d8-78f410d03758"
      },
      "outputs": [
        {
          "output_type": "display_data",
          "data": {
            "text/plain": [
              "<IPython.core.display.Javascript object>"
            ],
            "application/javascript": [
              "\n",
              "    async function download(id, filename, size) {\n",
              "      if (!google.colab.kernel.accessAllowed) {\n",
              "        return;\n",
              "      }\n",
              "      const div = document.createElement('div');\n",
              "      const label = document.createElement('label');\n",
              "      label.textContent = `Downloading \"${filename}\": `;\n",
              "      div.appendChild(label);\n",
              "      const progress = document.createElement('progress');\n",
              "      progress.max = size;\n",
              "      div.appendChild(progress);\n",
              "      document.body.appendChild(div);\n",
              "\n",
              "      const buffers = [];\n",
              "      let downloaded = 0;\n",
              "\n",
              "      const channel = await google.colab.kernel.comms.open(id);\n",
              "      // Send a message to notify the kernel that we're ready.\n",
              "      channel.send({})\n",
              "\n",
              "      for await (const message of channel.messages) {\n",
              "        // Send a message to notify the kernel that we're ready.\n",
              "        channel.send({})\n",
              "        if (message.buffers) {\n",
              "          for (const buffer of message.buffers) {\n",
              "            buffers.push(buffer);\n",
              "            downloaded += buffer.byteLength;\n",
              "            progress.value = downloaded;\n",
              "          }\n",
              "        }\n",
              "      }\n",
              "      const blob = new Blob(buffers, {type: 'application/binary'});\n",
              "      const a = document.createElement('a');\n",
              "      a.href = window.URL.createObjectURL(blob);\n",
              "      a.download = filename;\n",
              "      div.appendChild(a);\n",
              "      a.click();\n",
              "      div.remove();\n",
              "    }\n",
              "  "
            ]
          },
          "metadata": {}
        },
        {
          "output_type": "display_data",
          "data": {
            "text/plain": [
              "<IPython.core.display.Javascript object>"
            ],
            "application/javascript": [
              "download(\"download_d2dc9f67-8b3e-47cb-9113-5c305b1152a6\", \"runs.zip\", 49419873)"
            ]
          },
          "metadata": {}
        }
      ],
      "source": [
        "from google.colab import files\n",
        "import shutil\n",
        "\n",
        "# Compress the 'runs' folder\n",
        "shutil.make_archive(\"runs\", 'zip', \"runs\")\n",
        "\n",
        "# Download the compressed folder\n",
        "files.download(\"runs.zip\")\n"
      ]
    },
    {
      "cell_type": "markdown",
      "metadata": {
        "id": "4ad_z-i3rvM3"
      },
      "source": [
        "# ***Check***"
      ]
    },
    {
      "cell_type": "code",
      "execution_count": null,
      "metadata": {
        "id": "il_qj8dlxYqg"
      },
      "outputs": [],
      "source": [
        "import cv2\n",
        "from google.colab.patches import cv2_imshow\n",
        "from google.colab import files\n",
        "from ultralytics import YOLO  # Ensure YOLOv8 is installed\n",
        "\n",
        "# ✅ Directly define the class names (A–Z + 1–9)\n",
        "class_names =['Bad', 'Brother', 'Father', 'Food', 'Friend', 'Good', 'Hello', 'Help', 'House', 'I', 'Indian', 'Loud', 'Mummy', 'Namaste', 'Name', 'No', 'Place', 'Please', 'Quiet', 'Sleeping', 'Sorry', 'Strong', 'Thank-you', 'Time', 'Today', 'Water', 'What', 'Yes', 'Your', 'language', 'sign', 'you']\n",
        "\n",
        "\n",
        "print(f\"✅ Loaded {len(class_names)} gesture class names:\")\n",
        "print(class_names)\n",
        "\n",
        "# ✅ Load your trained YOLOv8 model\n",
        "model_path = \"/content/runs/detect/train/weights/best.pt\"  # Update if needed\n",
        "try:\n",
        "    model = YOLO(model_path)\n",
        "    print(\"✅ Model loaded successfully!\")\n",
        "except Exception as e:\n",
        "    print(f\"❌ Error loading YOLO model: {e}\")\n",
        "    raise\n",
        "\n",
        "# 📤 Upload ISL gesture images\n",
        "print(\"📤 Upload ISL gesture images...\")\n",
        "uploaded = files.upload()\n",
        "\n",
        "# 🔍 Process each uploaded image\n",
        "for file_name in uploaded.keys():\n",
        "    print(f\"\\n🔍 Processing: {file_name}\")\n",
        "    img = cv2.imread(file_name)\n",
        "\n",
        "    if img is None:\n",
        "        print(f\"❌ Error loading image: {file_name}\")\n",
        "        continue\n",
        "\n",
        "    try:\n",
        "        results = model.predict(img, conf=0.5)\n",
        "    except Exception as e:\n",
        "        print(f\"❌ Detection error: {e}\")\n",
        "        continue\n",
        "\n",
        "    detected_gestures = []\n",
        "\n",
        "    for result in results:\n",
        "        if not result.boxes:\n",
        "            print(\"⚠️ No detections found.\")\n",
        "            continue\n",
        "\n",
        "        for box in result.boxes:\n",
        "            x1, y1, x2, y2 = map(int, box.xyxy[0])\n",
        "            conf = float(box.conf[0])\n",
        "            cls_id = int(box.cls[0])\n",
        "\n",
        "            if cls_id >= len(class_names):\n",
        "                print(f\"⚠️ Invalid class ID: {cls_id}\")\n",
        "                continue\n",
        "\n",
        "            class_name = class_names[cls_id]\n",
        "            detected_gestures.append((class_name, conf, (x1, y1, x2, y2)))\n",
        "\n",
        "    if detected_gestures:\n",
        "        # Show highest confidence detection\n",
        "        class_name, conf, (x1, y1, x2, y2) = max(detected_gestures, key=lambda x: x[1])\n",
        "        label = f\"{class_name} ({conf:.2f})\"\n",
        "\n",
        "        # Draw box & label\n",
        "        cv2.rectangle(img, (x1, y1), (x2, y2), (0, 255, 0), 2)\n",
        "        cv2.putText(img, label, (x1, y1 - 10),\n",
        "                    cv2.FONT_HERSHEY_SIMPLEX, 0.7, (0, 255, 0), 2)\n",
        "        print(f\"✅ Detected Gesture: {label}\")\n",
        "    else:\n",
        "        print(\"❌ No valid gesture detected.\")\n",
        "\n",
        "    # 📸 Show the result\n",
        "    cv2_imshow(img)\n",
        "\n",
        "print(\"\\n🎉 All detections complete!\")\n"
      ]
    },
    {
      "cell_type": "markdown",
      "metadata": {
        "id": "iKPpHG4ZriOq"
      },
      "source": [
        "# ***Test and Valid***"
      ]
    },
    {
      "cell_type": "code",
      "execution_count": null,
      "metadata": {
        "colab": {
          "base_uri": "https://localhost:8080/"
        },
        "collapsed": true,
        "id": "Q35fiTy0JhUo",
        "outputId": "10746856-1b3b-4fab-a509-8c9c5d15ebbe"
      },
      "outputs": [
        {
          "name": "stdout",
          "output_type": "stream",
          "text": [
            "Ultralytics 8.3.94 🚀 Python-3.11.11 torch-2.6.0+cu124 CUDA:0 (Tesla T4, 15095MiB)\n",
            "Model summary (fused): 72 layers, 3,007,793 parameters, 0 gradients, 8.1 GFLOPs\n"
          ]
        },
        {
          "name": "stderr",
          "output_type": "stream",
          "text": [
            "\u001b[34m\u001b[1mval: \u001b[0mScanning /content/dataset/valid/labels.cache... 609 images, 14 backgrounds, 0 corrupt: 100%|██████████| 609/609 [00:00<?, ?it/s]\n",
            "                 Class     Images  Instances      Box(P          R      mAP50  mAP50-95): 100%|██████████| 39/39 [00:09<00:00,  4.25it/s]\n"
          ]
        },
        {
          "name": "stdout",
          "output_type": "stream",
          "text": [
            "                   all        609        682      0.952       0.92       0.95      0.751\n",
            "             10 Rupees         62         65      0.997      0.969      0.992      0.831\n",
            "            100 Rupees         58         66      0.912      0.894      0.926      0.625\n",
            "             20 Rupees         58         59      0.941      0.949      0.931      0.741\n",
            "            200 Rupees         53         56      0.962      0.964      0.965      0.812\n",
            "           2000 Rupees         78        101      0.988       0.82      0.946      0.647\n",
            "             50 Rupees         61         64      0.917      0.866        0.9      0.761\n",
            "            500 Rupees         90        113      0.958      0.811       0.94      0.703\n",
            "          new10 Rupees         33         43      0.995          1      0.995      0.853\n",
            "         new100 Rupees         34         40      0.994      0.925      0.971       0.78\n",
            "          new20 Rupees         31         33      0.937       0.97      0.974      0.777\n",
            "          new50 Rupees         40         42      0.868      0.952      0.908      0.731\n",
            "Speed: 1.9ms preprocess, 4.5ms inference, 0.0ms loss, 1.6ms postprocess per image\n",
            "Results saved to \u001b[1mruns/detect/val2\u001b[0m\n",
            "ultralytics.utils.metrics.DetMetrics object with attributes:\n",
            "\n",
            "ap_class_index: array([ 0,  1,  2,  3,  4,  5,  6,  7,  8,  9, 10])\n",
            "box: ultralytics.utils.metrics.Metric object\n",
            "confusion_matrix: <ultralytics.utils.metrics.ConfusionMatrix object at 0x7d0d8ac37cd0>\n",
            "curves: ['Precision-Recall(B)', 'F1-Confidence(B)', 'Precision-Confidence(B)', 'Recall-Confidence(B)']\n",
            "curves_results: [[array([          0,    0.001001,    0.002002,    0.003003,    0.004004,    0.005005,    0.006006,    0.007007,    0.008008,    0.009009,     0.01001,    0.011011,    0.012012,    0.013013,    0.014014,    0.015015,    0.016016,    0.017017,    0.018018,    0.019019,     0.02002,    0.021021,    0.022022,    0.023023,\n",
            "          0.024024,    0.025025,    0.026026,    0.027027,    0.028028,    0.029029,     0.03003,    0.031031,    0.032032,    0.033033,    0.034034,    0.035035,    0.036036,    0.037037,    0.038038,    0.039039,     0.04004,    0.041041,    0.042042,    0.043043,    0.044044,    0.045045,    0.046046,    0.047047,\n",
            "          0.048048,    0.049049,     0.05005,    0.051051,    0.052052,    0.053053,    0.054054,    0.055055,    0.056056,    0.057057,    0.058058,    0.059059,     0.06006,    0.061061,    0.062062,    0.063063,    0.064064,    0.065065,    0.066066,    0.067067,    0.068068,    0.069069,     0.07007,    0.071071,\n",
            "          0.072072,    0.073073,    0.074074,    0.075075,    0.076076,    0.077077,    0.078078,    0.079079,     0.08008,    0.081081,    0.082082,    0.083083,    0.084084,    0.085085,    0.086086,    0.087087,    0.088088,    0.089089,     0.09009,    0.091091,    0.092092,    0.093093,    0.094094,    0.095095,\n",
            "          0.096096,    0.097097,    0.098098,    0.099099,      0.1001,      0.1011,      0.1021,      0.1031,      0.1041,     0.10511,     0.10611,     0.10711,     0.10811,     0.10911,     0.11011,     0.11111,     0.11211,     0.11311,     0.11411,     0.11512,     0.11612,     0.11712,     0.11812,     0.11912,\n",
            "           0.12012,     0.12112,     0.12212,     0.12312,     0.12412,     0.12513,     0.12613,     0.12713,     0.12813,     0.12913,     0.13013,     0.13113,     0.13213,     0.13313,     0.13413,     0.13514,     0.13614,     0.13714,     0.13814,     0.13914,     0.14014,     0.14114,     0.14214,     0.14314,\n",
            "           0.14414,     0.14515,     0.14615,     0.14715,     0.14815,     0.14915,     0.15015,     0.15115,     0.15215,     0.15315,     0.15415,     0.15516,     0.15616,     0.15716,     0.15816,     0.15916,     0.16016,     0.16116,     0.16216,     0.16316,     0.16416,     0.16517,     0.16617,     0.16717,\n",
            "           0.16817,     0.16917,     0.17017,     0.17117,     0.17217,     0.17317,     0.17417,     0.17518,     0.17618,     0.17718,     0.17818,     0.17918,     0.18018,     0.18118,     0.18218,     0.18318,     0.18418,     0.18519,     0.18619,     0.18719,     0.18819,     0.18919,     0.19019,     0.19119,\n",
            "           0.19219,     0.19319,     0.19419,      0.1952,      0.1962,      0.1972,      0.1982,      0.1992,      0.2002,      0.2012,      0.2022,      0.2032,      0.2042,     0.20521,     0.20621,     0.20721,     0.20821,     0.20921,     0.21021,     0.21121,     0.21221,     0.21321,     0.21421,     0.21522,\n",
            "           0.21622,     0.21722,     0.21822,     0.21922,     0.22022,     0.22122,     0.22222,     0.22322,     0.22422,     0.22523,     0.22623,     0.22723,     0.22823,     0.22923,     0.23023,     0.23123,     0.23223,     0.23323,     0.23423,     0.23524,     0.23624,     0.23724,     0.23824,     0.23924,\n",
            "           0.24024,     0.24124,     0.24224,     0.24324,     0.24424,     0.24525,     0.24625,     0.24725,     0.24825,     0.24925,     0.25025,     0.25125,     0.25225,     0.25325,     0.25425,     0.25526,     0.25626,     0.25726,     0.25826,     0.25926,     0.26026,     0.26126,     0.26226,     0.26326,\n",
            "           0.26426,     0.26527,     0.26627,     0.26727,     0.26827,     0.26927,     0.27027,     0.27127,     0.27227,     0.27327,     0.27427,     0.27528,     0.27628,     0.27728,     0.27828,     0.27928,     0.28028,     0.28128,     0.28228,     0.28328,     0.28428,     0.28529,     0.28629,     0.28729,\n",
            "           0.28829,     0.28929,     0.29029,     0.29129,     0.29229,     0.29329,     0.29429,      0.2953,      0.2963,      0.2973,      0.2983,      0.2993,      0.3003,      0.3013,      0.3023,      0.3033,      0.3043,     0.30531,     0.30631,     0.30731,     0.30831,     0.30931,     0.31031,     0.31131,\n",
            "           0.31231,     0.31331,     0.31431,     0.31532,     0.31632,     0.31732,     0.31832,     0.31932,     0.32032,     0.32132,     0.32232,     0.32332,     0.32432,     0.32533,     0.32633,     0.32733,     0.32833,     0.32933,     0.33033,     0.33133,     0.33233,     0.33333,     0.33433,     0.33534,\n",
            "           0.33634,     0.33734,     0.33834,     0.33934,     0.34034,     0.34134,     0.34234,     0.34334,     0.34434,     0.34535,     0.34635,     0.34735,     0.34835,     0.34935,     0.35035,     0.35135,     0.35235,     0.35335,     0.35435,     0.35536,     0.35636,     0.35736,     0.35836,     0.35936,\n",
            "           0.36036,     0.36136,     0.36236,     0.36336,     0.36436,     0.36537,     0.36637,     0.36737,     0.36837,     0.36937,     0.37037,     0.37137,     0.37237,     0.37337,     0.37437,     0.37538,     0.37638,     0.37738,     0.37838,     0.37938,     0.38038,     0.38138,     0.38238,     0.38338,\n",
            "           0.38438,     0.38539,     0.38639,     0.38739,     0.38839,     0.38939,     0.39039,     0.39139,     0.39239,     0.39339,     0.39439,      0.3954,      0.3964,      0.3974,      0.3984,      0.3994,      0.4004,      0.4014,      0.4024,      0.4034,      0.4044,     0.40541,     0.40641,     0.40741,\n",
            "           0.40841,     0.40941,     0.41041,     0.41141,     0.41241,     0.41341,     0.41441,     0.41542,     0.41642,     0.41742,     0.41842,     0.41942,     0.42042,     0.42142,     0.42242,     0.42342,     0.42442,     0.42543,     0.42643,     0.42743,     0.42843,     0.42943,     0.43043,     0.43143,\n",
            "           0.43243,     0.43343,     0.43443,     0.43544,     0.43644,     0.43744,     0.43844,     0.43944,     0.44044,     0.44144,     0.44244,     0.44344,     0.44444,     0.44545,     0.44645,     0.44745,     0.44845,     0.44945,     0.45045,     0.45145,     0.45245,     0.45345,     0.45445,     0.45546,\n",
            "           0.45646,     0.45746,     0.45846,     0.45946,     0.46046,     0.46146,     0.46246,     0.46346,     0.46446,     0.46547,     0.46647,     0.46747,     0.46847,     0.46947,     0.47047,     0.47147,     0.47247,     0.47347,     0.47447,     0.47548,     0.47648,     0.47748,     0.47848,     0.47948,\n",
            "           0.48048,     0.48148,     0.48248,     0.48348,     0.48448,     0.48549,     0.48649,     0.48749,     0.48849,     0.48949,     0.49049,     0.49149,     0.49249,     0.49349,     0.49449,      0.4955,      0.4965,      0.4975,      0.4985,      0.4995,      0.5005,      0.5015,      0.5025,      0.5035,\n",
            "            0.5045,     0.50551,     0.50651,     0.50751,     0.50851,     0.50951,     0.51051,     0.51151,     0.51251,     0.51351,     0.51451,     0.51552,     0.51652,     0.51752,     0.51852,     0.51952,     0.52052,     0.52152,     0.52252,     0.52352,     0.52452,     0.52553,     0.52653,     0.52753,\n",
            "           0.52853,     0.52953,     0.53053,     0.53153,     0.53253,     0.53353,     0.53453,     0.53554,     0.53654,     0.53754,     0.53854,     0.53954,     0.54054,     0.54154,     0.54254,     0.54354,     0.54454,     0.54555,     0.54655,     0.54755,     0.54855,     0.54955,     0.55055,     0.55155,\n",
            "           0.55255,     0.55355,     0.55455,     0.55556,     0.55656,     0.55756,     0.55856,     0.55956,     0.56056,     0.56156,     0.56256,     0.56356,     0.56456,     0.56557,     0.56657,     0.56757,     0.56857,     0.56957,     0.57057,     0.57157,     0.57257,     0.57357,     0.57457,     0.57558,\n",
            "           0.57658,     0.57758,     0.57858,     0.57958,     0.58058,     0.58158,     0.58258,     0.58358,     0.58458,     0.58559,     0.58659,     0.58759,     0.58859,     0.58959,     0.59059,     0.59159,     0.59259,     0.59359,     0.59459,      0.5956,      0.5966,      0.5976,      0.5986,      0.5996,\n",
            "            0.6006,      0.6016,      0.6026,      0.6036,      0.6046,     0.60561,     0.60661,     0.60761,     0.60861,     0.60961,     0.61061,     0.61161,     0.61261,     0.61361,     0.61461,     0.61562,     0.61662,     0.61762,     0.61862,     0.61962,     0.62062,     0.62162,     0.62262,     0.62362,\n",
            "           0.62462,     0.62563,     0.62663,     0.62763,     0.62863,     0.62963,     0.63063,     0.63163,     0.63263,     0.63363,     0.63463,     0.63564,     0.63664,     0.63764,     0.63864,     0.63964,     0.64064,     0.64164,     0.64264,     0.64364,     0.64464,     0.64565,     0.64665,     0.64765,\n",
            "           0.64865,     0.64965,     0.65065,     0.65165,     0.65265,     0.65365,     0.65465,     0.65566,     0.65666,     0.65766,     0.65866,     0.65966,     0.66066,     0.66166,     0.66266,     0.66366,     0.66466,     0.66567,     0.66667,     0.66767,     0.66867,     0.66967,     0.67067,     0.67167,\n",
            "           0.67267,     0.67367,     0.67467,     0.67568,     0.67668,     0.67768,     0.67868,     0.67968,     0.68068,     0.68168,     0.68268,     0.68368,     0.68468,     0.68569,     0.68669,     0.68769,     0.68869,     0.68969,     0.69069,     0.69169,     0.69269,     0.69369,     0.69469,      0.6957,\n",
            "            0.6967,      0.6977,      0.6987,      0.6997,      0.7007,      0.7017,      0.7027,      0.7037,      0.7047,     0.70571,     0.70671,     0.70771,     0.70871,     0.70971,     0.71071,     0.71171,     0.71271,     0.71371,     0.71471,     0.71572,     0.71672,     0.71772,     0.71872,     0.71972,\n",
            "           0.72072,     0.72172,     0.72272,     0.72372,     0.72472,     0.72573,     0.72673,     0.72773,     0.72873,     0.72973,     0.73073,     0.73173,     0.73273,     0.73373,     0.73473,     0.73574,     0.73674,     0.73774,     0.73874,     0.73974,     0.74074,     0.74174,     0.74274,     0.74374,\n",
            "           0.74474,     0.74575,     0.74675,     0.74775,     0.74875,     0.74975,     0.75075,     0.75175,     0.75275,     0.75375,     0.75475,     0.75576,     0.75676,     0.75776,     0.75876,     0.75976,     0.76076,     0.76176,     0.76276,     0.76376,     0.76476,     0.76577,     0.76677,     0.76777,\n",
            "           0.76877,     0.76977,     0.77077,     0.77177,     0.77277,     0.77377,     0.77477,     0.77578,     0.77678,     0.77778,     0.77878,     0.77978,     0.78078,     0.78178,     0.78278,     0.78378,     0.78478,     0.78579,     0.78679,     0.78779,     0.78879,     0.78979,     0.79079,     0.79179,\n",
            "           0.79279,     0.79379,     0.79479,      0.7958,      0.7968,      0.7978,      0.7988,      0.7998,      0.8008,      0.8018,      0.8028,      0.8038,      0.8048,     0.80581,     0.80681,     0.80781,     0.80881,     0.80981,     0.81081,     0.81181,     0.81281,     0.81381,     0.81481,     0.81582,\n",
            "           0.81682,     0.81782,     0.81882,     0.81982,     0.82082,     0.82182,     0.82282,     0.82382,     0.82482,     0.82583,     0.82683,     0.82783,     0.82883,     0.82983,     0.83083,     0.83183,     0.83283,     0.83383,     0.83483,     0.83584,     0.83684,     0.83784,     0.83884,     0.83984,\n",
            "           0.84084,     0.84184,     0.84284,     0.84384,     0.84484,     0.84585,     0.84685,     0.84785,     0.84885,     0.84985,     0.85085,     0.85185,     0.85285,     0.85385,     0.85485,     0.85586,     0.85686,     0.85786,     0.85886,     0.85986,     0.86086,     0.86186,     0.86286,     0.86386,\n",
            "           0.86486,     0.86587,     0.86687,     0.86787,     0.86887,     0.86987,     0.87087,     0.87187,     0.87287,     0.87387,     0.87487,     0.87588,     0.87688,     0.87788,     0.87888,     0.87988,     0.88088,     0.88188,     0.88288,     0.88388,     0.88488,     0.88589,     0.88689,     0.88789,\n",
            "           0.88889,     0.88989,     0.89089,     0.89189,     0.89289,     0.89389,     0.89489,      0.8959,      0.8969,      0.8979,      0.8989,      0.8999,      0.9009,      0.9019,      0.9029,      0.9039,      0.9049,     0.90591,     0.90691,     0.90791,     0.90891,     0.90991,     0.91091,     0.91191,\n",
            "           0.91291,     0.91391,     0.91491,     0.91592,     0.91692,     0.91792,     0.91892,     0.91992,     0.92092,     0.92192,     0.92292,     0.92392,     0.92492,     0.92593,     0.92693,     0.92793,     0.92893,     0.92993,     0.93093,     0.93193,     0.93293,     0.93393,     0.93493,     0.93594,\n",
            "           0.93694,     0.93794,     0.93894,     0.93994,     0.94094,     0.94194,     0.94294,     0.94394,     0.94494,     0.94595,     0.94695,     0.94795,     0.94895,     0.94995,     0.95095,     0.95195,     0.95295,     0.95395,     0.95495,     0.95596,     0.95696,     0.95796,     0.95896,     0.95996,\n",
            "           0.96096,     0.96196,     0.96296,     0.96396,     0.96496,     0.96597,     0.96697,     0.96797,     0.96897,     0.96997,     0.97097,     0.97197,     0.97297,     0.97397,     0.97497,     0.97598,     0.97698,     0.97798,     0.97898,     0.97998,     0.98098,     0.98198,     0.98298,     0.98398,\n",
            "           0.98498,     0.98599,     0.98699,     0.98799,     0.98899,     0.98999,     0.99099,     0.99199,     0.99299,     0.99399,     0.99499,       0.996,       0.997,       0.998,       0.999,           1]), array([[          1,           1,           1, ...,     0.73034,     0.73034,           0],\n",
            "       [          1,           1,           1, ...,    0.038514,    0.019257,           0],\n",
            "       [          1,           1,           1, ...,    0.034426,    0.017213,           0],\n",
            "       ...,\n",
            "       [          1,           1,           1, ...,     0.49383,     0.49383,           0],\n",
            "       [          1,           1,           1, ...,     0.91667,     0.91667,           0],\n",
            "       [          1,           1,           1, ...,     0.53165,     0.53165,           0]]), 'Recall', 'Precision'], [array([          0,    0.001001,    0.002002,    0.003003,    0.004004,    0.005005,    0.006006,    0.007007,    0.008008,    0.009009,     0.01001,    0.011011,    0.012012,    0.013013,    0.014014,    0.015015,    0.016016,    0.017017,    0.018018,    0.019019,     0.02002,    0.021021,    0.022022,    0.023023,\n",
            "          0.024024,    0.025025,    0.026026,    0.027027,    0.028028,    0.029029,     0.03003,    0.031031,    0.032032,    0.033033,    0.034034,    0.035035,    0.036036,    0.037037,    0.038038,    0.039039,     0.04004,    0.041041,    0.042042,    0.043043,    0.044044,    0.045045,    0.046046,    0.047047,\n",
            "          0.048048,    0.049049,     0.05005,    0.051051,    0.052052,    0.053053,    0.054054,    0.055055,    0.056056,    0.057057,    0.058058,    0.059059,     0.06006,    0.061061,    0.062062,    0.063063,    0.064064,    0.065065,    0.066066,    0.067067,    0.068068,    0.069069,     0.07007,    0.071071,\n",
            "          0.072072,    0.073073,    0.074074,    0.075075,    0.076076,    0.077077,    0.078078,    0.079079,     0.08008,    0.081081,    0.082082,    0.083083,    0.084084,    0.085085,    0.086086,    0.087087,    0.088088,    0.089089,     0.09009,    0.091091,    0.092092,    0.093093,    0.094094,    0.095095,\n",
            "          0.096096,    0.097097,    0.098098,    0.099099,      0.1001,      0.1011,      0.1021,      0.1031,      0.1041,     0.10511,     0.10611,     0.10711,     0.10811,     0.10911,     0.11011,     0.11111,     0.11211,     0.11311,     0.11411,     0.11512,     0.11612,     0.11712,     0.11812,     0.11912,\n",
            "           0.12012,     0.12112,     0.12212,     0.12312,     0.12412,     0.12513,     0.12613,     0.12713,     0.12813,     0.12913,     0.13013,     0.13113,     0.13213,     0.13313,     0.13413,     0.13514,     0.13614,     0.13714,     0.13814,     0.13914,     0.14014,     0.14114,     0.14214,     0.14314,\n",
            "           0.14414,     0.14515,     0.14615,     0.14715,     0.14815,     0.14915,     0.15015,     0.15115,     0.15215,     0.15315,     0.15415,     0.15516,     0.15616,     0.15716,     0.15816,     0.15916,     0.16016,     0.16116,     0.16216,     0.16316,     0.16416,     0.16517,     0.16617,     0.16717,\n",
            "           0.16817,     0.16917,     0.17017,     0.17117,     0.17217,     0.17317,     0.17417,     0.17518,     0.17618,     0.17718,     0.17818,     0.17918,     0.18018,     0.18118,     0.18218,     0.18318,     0.18418,     0.18519,     0.18619,     0.18719,     0.18819,     0.18919,     0.19019,     0.19119,\n",
            "           0.19219,     0.19319,     0.19419,      0.1952,      0.1962,      0.1972,      0.1982,      0.1992,      0.2002,      0.2012,      0.2022,      0.2032,      0.2042,     0.20521,     0.20621,     0.20721,     0.20821,     0.20921,     0.21021,     0.21121,     0.21221,     0.21321,     0.21421,     0.21522,\n",
            "           0.21622,     0.21722,     0.21822,     0.21922,     0.22022,     0.22122,     0.22222,     0.22322,     0.22422,     0.22523,     0.22623,     0.22723,     0.22823,     0.22923,     0.23023,     0.23123,     0.23223,     0.23323,     0.23423,     0.23524,     0.23624,     0.23724,     0.23824,     0.23924,\n",
            "           0.24024,     0.24124,     0.24224,     0.24324,     0.24424,     0.24525,     0.24625,     0.24725,     0.24825,     0.24925,     0.25025,     0.25125,     0.25225,     0.25325,     0.25425,     0.25526,     0.25626,     0.25726,     0.25826,     0.25926,     0.26026,     0.26126,     0.26226,     0.26326,\n",
            "           0.26426,     0.26527,     0.26627,     0.26727,     0.26827,     0.26927,     0.27027,     0.27127,     0.27227,     0.27327,     0.27427,     0.27528,     0.27628,     0.27728,     0.27828,     0.27928,     0.28028,     0.28128,     0.28228,     0.28328,     0.28428,     0.28529,     0.28629,     0.28729,\n",
            "           0.28829,     0.28929,     0.29029,     0.29129,     0.29229,     0.29329,     0.29429,      0.2953,      0.2963,      0.2973,      0.2983,      0.2993,      0.3003,      0.3013,      0.3023,      0.3033,      0.3043,     0.30531,     0.30631,     0.30731,     0.30831,     0.30931,     0.31031,     0.31131,\n",
            "           0.31231,     0.31331,     0.31431,     0.31532,     0.31632,     0.31732,     0.31832,     0.31932,     0.32032,     0.32132,     0.32232,     0.32332,     0.32432,     0.32533,     0.32633,     0.32733,     0.32833,     0.32933,     0.33033,     0.33133,     0.33233,     0.33333,     0.33433,     0.33534,\n",
            "           0.33634,     0.33734,     0.33834,     0.33934,     0.34034,     0.34134,     0.34234,     0.34334,     0.34434,     0.34535,     0.34635,     0.34735,     0.34835,     0.34935,     0.35035,     0.35135,     0.35235,     0.35335,     0.35435,     0.35536,     0.35636,     0.35736,     0.35836,     0.35936,\n",
            "           0.36036,     0.36136,     0.36236,     0.36336,     0.36436,     0.36537,     0.36637,     0.36737,     0.36837,     0.36937,     0.37037,     0.37137,     0.37237,     0.37337,     0.37437,     0.37538,     0.37638,     0.37738,     0.37838,     0.37938,     0.38038,     0.38138,     0.38238,     0.38338,\n",
            "           0.38438,     0.38539,     0.38639,     0.38739,     0.38839,     0.38939,     0.39039,     0.39139,     0.39239,     0.39339,     0.39439,      0.3954,      0.3964,      0.3974,      0.3984,      0.3994,      0.4004,      0.4014,      0.4024,      0.4034,      0.4044,     0.40541,     0.40641,     0.40741,\n",
            "           0.40841,     0.40941,     0.41041,     0.41141,     0.41241,     0.41341,     0.41441,     0.41542,     0.41642,     0.41742,     0.41842,     0.41942,     0.42042,     0.42142,     0.42242,     0.42342,     0.42442,     0.42543,     0.42643,     0.42743,     0.42843,     0.42943,     0.43043,     0.43143,\n",
            "           0.43243,     0.43343,     0.43443,     0.43544,     0.43644,     0.43744,     0.43844,     0.43944,     0.44044,     0.44144,     0.44244,     0.44344,     0.44444,     0.44545,     0.44645,     0.44745,     0.44845,     0.44945,     0.45045,     0.45145,     0.45245,     0.45345,     0.45445,     0.45546,\n",
            "           0.45646,     0.45746,     0.45846,     0.45946,     0.46046,     0.46146,     0.46246,     0.46346,     0.46446,     0.46547,     0.46647,     0.46747,     0.46847,     0.46947,     0.47047,     0.47147,     0.47247,     0.47347,     0.47447,     0.47548,     0.47648,     0.47748,     0.47848,     0.47948,\n",
            "           0.48048,     0.48148,     0.48248,     0.48348,     0.48448,     0.48549,     0.48649,     0.48749,     0.48849,     0.48949,     0.49049,     0.49149,     0.49249,     0.49349,     0.49449,      0.4955,      0.4965,      0.4975,      0.4985,      0.4995,      0.5005,      0.5015,      0.5025,      0.5035,\n",
            "            0.5045,     0.50551,     0.50651,     0.50751,     0.50851,     0.50951,     0.51051,     0.51151,     0.51251,     0.51351,     0.51451,     0.51552,     0.51652,     0.51752,     0.51852,     0.51952,     0.52052,     0.52152,     0.52252,     0.52352,     0.52452,     0.52553,     0.52653,     0.52753,\n",
            "           0.52853,     0.52953,     0.53053,     0.53153,     0.53253,     0.53353,     0.53453,     0.53554,     0.53654,     0.53754,     0.53854,     0.53954,     0.54054,     0.54154,     0.54254,     0.54354,     0.54454,     0.54555,     0.54655,     0.54755,     0.54855,     0.54955,     0.55055,     0.55155,\n",
            "           0.55255,     0.55355,     0.55455,     0.55556,     0.55656,     0.55756,     0.55856,     0.55956,     0.56056,     0.56156,     0.56256,     0.56356,     0.56456,     0.56557,     0.56657,     0.56757,     0.56857,     0.56957,     0.57057,     0.57157,     0.57257,     0.57357,     0.57457,     0.57558,\n",
            "           0.57658,     0.57758,     0.57858,     0.57958,     0.58058,     0.58158,     0.58258,     0.58358,     0.58458,     0.58559,     0.58659,     0.58759,     0.58859,     0.58959,     0.59059,     0.59159,     0.59259,     0.59359,     0.59459,      0.5956,      0.5966,      0.5976,      0.5986,      0.5996,\n",
            "            0.6006,      0.6016,      0.6026,      0.6036,      0.6046,     0.60561,     0.60661,     0.60761,     0.60861,     0.60961,     0.61061,     0.61161,     0.61261,     0.61361,     0.61461,     0.61562,     0.61662,     0.61762,     0.61862,     0.61962,     0.62062,     0.62162,     0.62262,     0.62362,\n",
            "           0.62462,     0.62563,     0.62663,     0.62763,     0.62863,     0.62963,     0.63063,     0.63163,     0.63263,     0.63363,     0.63463,     0.63564,     0.63664,     0.63764,     0.63864,     0.63964,     0.64064,     0.64164,     0.64264,     0.64364,     0.64464,     0.64565,     0.64665,     0.64765,\n",
            "           0.64865,     0.64965,     0.65065,     0.65165,     0.65265,     0.65365,     0.65465,     0.65566,     0.65666,     0.65766,     0.65866,     0.65966,     0.66066,     0.66166,     0.66266,     0.66366,     0.66466,     0.66567,     0.66667,     0.66767,     0.66867,     0.66967,     0.67067,     0.67167,\n",
            "           0.67267,     0.67367,     0.67467,     0.67568,     0.67668,     0.67768,     0.67868,     0.67968,     0.68068,     0.68168,     0.68268,     0.68368,     0.68468,     0.68569,     0.68669,     0.68769,     0.68869,     0.68969,     0.69069,     0.69169,     0.69269,     0.69369,     0.69469,      0.6957,\n",
            "            0.6967,      0.6977,      0.6987,      0.6997,      0.7007,      0.7017,      0.7027,      0.7037,      0.7047,     0.70571,     0.70671,     0.70771,     0.70871,     0.70971,     0.71071,     0.71171,     0.71271,     0.71371,     0.71471,     0.71572,     0.71672,     0.71772,     0.71872,     0.71972,\n",
            "           0.72072,     0.72172,     0.72272,     0.72372,     0.72472,     0.72573,     0.72673,     0.72773,     0.72873,     0.72973,     0.73073,     0.73173,     0.73273,     0.73373,     0.73473,     0.73574,     0.73674,     0.73774,     0.73874,     0.73974,     0.74074,     0.74174,     0.74274,     0.74374,\n",
            "           0.74474,     0.74575,     0.74675,     0.74775,     0.74875,     0.74975,     0.75075,     0.75175,     0.75275,     0.75375,     0.75475,     0.75576,     0.75676,     0.75776,     0.75876,     0.75976,     0.76076,     0.76176,     0.76276,     0.76376,     0.76476,     0.76577,     0.76677,     0.76777,\n",
            "           0.76877,     0.76977,     0.77077,     0.77177,     0.77277,     0.77377,     0.77477,     0.77578,     0.77678,     0.77778,     0.77878,     0.77978,     0.78078,     0.78178,     0.78278,     0.78378,     0.78478,     0.78579,     0.78679,     0.78779,     0.78879,     0.78979,     0.79079,     0.79179,\n",
            "           0.79279,     0.79379,     0.79479,      0.7958,      0.7968,      0.7978,      0.7988,      0.7998,      0.8008,      0.8018,      0.8028,      0.8038,      0.8048,     0.80581,     0.80681,     0.80781,     0.80881,     0.80981,     0.81081,     0.81181,     0.81281,     0.81381,     0.81481,     0.81582,\n",
            "           0.81682,     0.81782,     0.81882,     0.81982,     0.82082,     0.82182,     0.82282,     0.82382,     0.82482,     0.82583,     0.82683,     0.82783,     0.82883,     0.82983,     0.83083,     0.83183,     0.83283,     0.83383,     0.83483,     0.83584,     0.83684,     0.83784,     0.83884,     0.83984,\n",
            "           0.84084,     0.84184,     0.84284,     0.84384,     0.84484,     0.84585,     0.84685,     0.84785,     0.84885,     0.84985,     0.85085,     0.85185,     0.85285,     0.85385,     0.85485,     0.85586,     0.85686,     0.85786,     0.85886,     0.85986,     0.86086,     0.86186,     0.86286,     0.86386,\n",
            "           0.86486,     0.86587,     0.86687,     0.86787,     0.86887,     0.86987,     0.87087,     0.87187,     0.87287,     0.87387,     0.87487,     0.87588,     0.87688,     0.87788,     0.87888,     0.87988,     0.88088,     0.88188,     0.88288,     0.88388,     0.88488,     0.88589,     0.88689,     0.88789,\n",
            "           0.88889,     0.88989,     0.89089,     0.89189,     0.89289,     0.89389,     0.89489,      0.8959,      0.8969,      0.8979,      0.8989,      0.8999,      0.9009,      0.9019,      0.9029,      0.9039,      0.9049,     0.90591,     0.90691,     0.90791,     0.90891,     0.90991,     0.91091,     0.91191,\n",
            "           0.91291,     0.91391,     0.91491,     0.91592,     0.91692,     0.91792,     0.91892,     0.91992,     0.92092,     0.92192,     0.92292,     0.92392,     0.92492,     0.92593,     0.92693,     0.92793,     0.92893,     0.92993,     0.93093,     0.93193,     0.93293,     0.93393,     0.93493,     0.93594,\n",
            "           0.93694,     0.93794,     0.93894,     0.93994,     0.94094,     0.94194,     0.94294,     0.94394,     0.94494,     0.94595,     0.94695,     0.94795,     0.94895,     0.94995,     0.95095,     0.95195,     0.95295,     0.95395,     0.95495,     0.95596,     0.95696,     0.95796,     0.95896,     0.95996,\n",
            "           0.96096,     0.96196,     0.96296,     0.96396,     0.96496,     0.96597,     0.96697,     0.96797,     0.96897,     0.96997,     0.97097,     0.97197,     0.97297,     0.97397,     0.97497,     0.97598,     0.97698,     0.97798,     0.97898,     0.97998,     0.98098,     0.98198,     0.98298,     0.98398,\n",
            "           0.98498,     0.98599,     0.98699,     0.98799,     0.98899,     0.98999,     0.99099,     0.99199,     0.99299,     0.99399,     0.99499,       0.996,       0.997,       0.998,       0.999,           1]), array([[    0.40248,     0.40248,     0.57075, ...,           0,           0,           0],\n",
            "       [    0.44983,     0.44983,     0.56541, ...,           0,           0,           0],\n",
            "       [    0.44961,     0.44961,     0.60278, ...,           0,           0,           0],\n",
            "       ...,\n",
            "       [    0.18824,     0.18824,     0.28644, ...,           0,           0,           0],\n",
            "       [       0.55,        0.55,     0.65075, ...,           0,           0,           0],\n",
            "       [     0.3871,      0.3871,     0.54872, ...,           0,           0,           0]]), 'Confidence', 'F1'], [array([          0,    0.001001,    0.002002,    0.003003,    0.004004,    0.005005,    0.006006,    0.007007,    0.008008,    0.009009,     0.01001,    0.011011,    0.012012,    0.013013,    0.014014,    0.015015,    0.016016,    0.017017,    0.018018,    0.019019,     0.02002,    0.021021,    0.022022,    0.023023,\n",
            "          0.024024,    0.025025,    0.026026,    0.027027,    0.028028,    0.029029,     0.03003,    0.031031,    0.032032,    0.033033,    0.034034,    0.035035,    0.036036,    0.037037,    0.038038,    0.039039,     0.04004,    0.041041,    0.042042,    0.043043,    0.044044,    0.045045,    0.046046,    0.047047,\n",
            "          0.048048,    0.049049,     0.05005,    0.051051,    0.052052,    0.053053,    0.054054,    0.055055,    0.056056,    0.057057,    0.058058,    0.059059,     0.06006,    0.061061,    0.062062,    0.063063,    0.064064,    0.065065,    0.066066,    0.067067,    0.068068,    0.069069,     0.07007,    0.071071,\n",
            "          0.072072,    0.073073,    0.074074,    0.075075,    0.076076,    0.077077,    0.078078,    0.079079,     0.08008,    0.081081,    0.082082,    0.083083,    0.084084,    0.085085,    0.086086,    0.087087,    0.088088,    0.089089,     0.09009,    0.091091,    0.092092,    0.093093,    0.094094,    0.095095,\n",
            "          0.096096,    0.097097,    0.098098,    0.099099,      0.1001,      0.1011,      0.1021,      0.1031,      0.1041,     0.10511,     0.10611,     0.10711,     0.10811,     0.10911,     0.11011,     0.11111,     0.11211,     0.11311,     0.11411,     0.11512,     0.11612,     0.11712,     0.11812,     0.11912,\n",
            "           0.12012,     0.12112,     0.12212,     0.12312,     0.12412,     0.12513,     0.12613,     0.12713,     0.12813,     0.12913,     0.13013,     0.13113,     0.13213,     0.13313,     0.13413,     0.13514,     0.13614,     0.13714,     0.13814,     0.13914,     0.14014,     0.14114,     0.14214,     0.14314,\n",
            "           0.14414,     0.14515,     0.14615,     0.14715,     0.14815,     0.14915,     0.15015,     0.15115,     0.15215,     0.15315,     0.15415,     0.15516,     0.15616,     0.15716,     0.15816,     0.15916,     0.16016,     0.16116,     0.16216,     0.16316,     0.16416,     0.16517,     0.16617,     0.16717,\n",
            "           0.16817,     0.16917,     0.17017,     0.17117,     0.17217,     0.17317,     0.17417,     0.17518,     0.17618,     0.17718,     0.17818,     0.17918,     0.18018,     0.18118,     0.18218,     0.18318,     0.18418,     0.18519,     0.18619,     0.18719,     0.18819,     0.18919,     0.19019,     0.19119,\n",
            "           0.19219,     0.19319,     0.19419,      0.1952,      0.1962,      0.1972,      0.1982,      0.1992,      0.2002,      0.2012,      0.2022,      0.2032,      0.2042,     0.20521,     0.20621,     0.20721,     0.20821,     0.20921,     0.21021,     0.21121,     0.21221,     0.21321,     0.21421,     0.21522,\n",
            "           0.21622,     0.21722,     0.21822,     0.21922,     0.22022,     0.22122,     0.22222,     0.22322,     0.22422,     0.22523,     0.22623,     0.22723,     0.22823,     0.22923,     0.23023,     0.23123,     0.23223,     0.23323,     0.23423,     0.23524,     0.23624,     0.23724,     0.23824,     0.23924,\n",
            "           0.24024,     0.24124,     0.24224,     0.24324,     0.24424,     0.24525,     0.24625,     0.24725,     0.24825,     0.24925,     0.25025,     0.25125,     0.25225,     0.25325,     0.25425,     0.25526,     0.25626,     0.25726,     0.25826,     0.25926,     0.26026,     0.26126,     0.26226,     0.26326,\n",
            "           0.26426,     0.26527,     0.26627,     0.26727,     0.26827,     0.26927,     0.27027,     0.27127,     0.27227,     0.27327,     0.27427,     0.27528,     0.27628,     0.27728,     0.27828,     0.27928,     0.28028,     0.28128,     0.28228,     0.28328,     0.28428,     0.28529,     0.28629,     0.28729,\n",
            "           0.28829,     0.28929,     0.29029,     0.29129,     0.29229,     0.29329,     0.29429,      0.2953,      0.2963,      0.2973,      0.2983,      0.2993,      0.3003,      0.3013,      0.3023,      0.3033,      0.3043,     0.30531,     0.30631,     0.30731,     0.30831,     0.30931,     0.31031,     0.31131,\n",
            "           0.31231,     0.31331,     0.31431,     0.31532,     0.31632,     0.31732,     0.31832,     0.31932,     0.32032,     0.32132,     0.32232,     0.32332,     0.32432,     0.32533,     0.32633,     0.32733,     0.32833,     0.32933,     0.33033,     0.33133,     0.33233,     0.33333,     0.33433,     0.33534,\n",
            "           0.33634,     0.33734,     0.33834,     0.33934,     0.34034,     0.34134,     0.34234,     0.34334,     0.34434,     0.34535,     0.34635,     0.34735,     0.34835,     0.34935,     0.35035,     0.35135,     0.35235,     0.35335,     0.35435,     0.35536,     0.35636,     0.35736,     0.35836,     0.35936,\n",
            "           0.36036,     0.36136,     0.36236,     0.36336,     0.36436,     0.36537,     0.36637,     0.36737,     0.36837,     0.36937,     0.37037,     0.37137,     0.37237,     0.37337,     0.37437,     0.37538,     0.37638,     0.37738,     0.37838,     0.37938,     0.38038,     0.38138,     0.38238,     0.38338,\n",
            "           0.38438,     0.38539,     0.38639,     0.38739,     0.38839,     0.38939,     0.39039,     0.39139,     0.39239,     0.39339,     0.39439,      0.3954,      0.3964,      0.3974,      0.3984,      0.3994,      0.4004,      0.4014,      0.4024,      0.4034,      0.4044,     0.40541,     0.40641,     0.40741,\n",
            "           0.40841,     0.40941,     0.41041,     0.41141,     0.41241,     0.41341,     0.41441,     0.41542,     0.41642,     0.41742,     0.41842,     0.41942,     0.42042,     0.42142,     0.42242,     0.42342,     0.42442,     0.42543,     0.42643,     0.42743,     0.42843,     0.42943,     0.43043,     0.43143,\n",
            "           0.43243,     0.43343,     0.43443,     0.43544,     0.43644,     0.43744,     0.43844,     0.43944,     0.44044,     0.44144,     0.44244,     0.44344,     0.44444,     0.44545,     0.44645,     0.44745,     0.44845,     0.44945,     0.45045,     0.45145,     0.45245,     0.45345,     0.45445,     0.45546,\n",
            "           0.45646,     0.45746,     0.45846,     0.45946,     0.46046,     0.46146,     0.46246,     0.46346,     0.46446,     0.46547,     0.46647,     0.46747,     0.46847,     0.46947,     0.47047,     0.47147,     0.47247,     0.47347,     0.47447,     0.47548,     0.47648,     0.47748,     0.47848,     0.47948,\n",
            "           0.48048,     0.48148,     0.48248,     0.48348,     0.48448,     0.48549,     0.48649,     0.48749,     0.48849,     0.48949,     0.49049,     0.49149,     0.49249,     0.49349,     0.49449,      0.4955,      0.4965,      0.4975,      0.4985,      0.4995,      0.5005,      0.5015,      0.5025,      0.5035,\n",
            "            0.5045,     0.50551,     0.50651,     0.50751,     0.50851,     0.50951,     0.51051,     0.51151,     0.51251,     0.51351,     0.51451,     0.51552,     0.51652,     0.51752,     0.51852,     0.51952,     0.52052,     0.52152,     0.52252,     0.52352,     0.52452,     0.52553,     0.52653,     0.52753,\n",
            "           0.52853,     0.52953,     0.53053,     0.53153,     0.53253,     0.53353,     0.53453,     0.53554,     0.53654,     0.53754,     0.53854,     0.53954,     0.54054,     0.54154,     0.54254,     0.54354,     0.54454,     0.54555,     0.54655,     0.54755,     0.54855,     0.54955,     0.55055,     0.55155,\n",
            "           0.55255,     0.55355,     0.55455,     0.55556,     0.55656,     0.55756,     0.55856,     0.55956,     0.56056,     0.56156,     0.56256,     0.56356,     0.56456,     0.56557,     0.56657,     0.56757,     0.56857,     0.56957,     0.57057,     0.57157,     0.57257,     0.57357,     0.57457,     0.57558,\n",
            "           0.57658,     0.57758,     0.57858,     0.57958,     0.58058,     0.58158,     0.58258,     0.58358,     0.58458,     0.58559,     0.58659,     0.58759,     0.58859,     0.58959,     0.59059,     0.59159,     0.59259,     0.59359,     0.59459,      0.5956,      0.5966,      0.5976,      0.5986,      0.5996,\n",
            "            0.6006,      0.6016,      0.6026,      0.6036,      0.6046,     0.60561,     0.60661,     0.60761,     0.60861,     0.60961,     0.61061,     0.61161,     0.61261,     0.61361,     0.61461,     0.61562,     0.61662,     0.61762,     0.61862,     0.61962,     0.62062,     0.62162,     0.62262,     0.62362,\n",
            "           0.62462,     0.62563,     0.62663,     0.62763,     0.62863,     0.62963,     0.63063,     0.63163,     0.63263,     0.63363,     0.63463,     0.63564,     0.63664,     0.63764,     0.63864,     0.63964,     0.64064,     0.64164,     0.64264,     0.64364,     0.64464,     0.64565,     0.64665,     0.64765,\n",
            "           0.64865,     0.64965,     0.65065,     0.65165,     0.65265,     0.65365,     0.65465,     0.65566,     0.65666,     0.65766,     0.65866,     0.65966,     0.66066,     0.66166,     0.66266,     0.66366,     0.66466,     0.66567,     0.66667,     0.66767,     0.66867,     0.66967,     0.67067,     0.67167,\n",
            "           0.67267,     0.67367,     0.67467,     0.67568,     0.67668,     0.67768,     0.67868,     0.67968,     0.68068,     0.68168,     0.68268,     0.68368,     0.68468,     0.68569,     0.68669,     0.68769,     0.68869,     0.68969,     0.69069,     0.69169,     0.69269,     0.69369,     0.69469,      0.6957,\n",
            "            0.6967,      0.6977,      0.6987,      0.6997,      0.7007,      0.7017,      0.7027,      0.7037,      0.7047,     0.70571,     0.70671,     0.70771,     0.70871,     0.70971,     0.71071,     0.71171,     0.71271,     0.71371,     0.71471,     0.71572,     0.71672,     0.71772,     0.71872,     0.71972,\n",
            "           0.72072,     0.72172,     0.72272,     0.72372,     0.72472,     0.72573,     0.72673,     0.72773,     0.72873,     0.72973,     0.73073,     0.73173,     0.73273,     0.73373,     0.73473,     0.73574,     0.73674,     0.73774,     0.73874,     0.73974,     0.74074,     0.74174,     0.74274,     0.74374,\n",
            "           0.74474,     0.74575,     0.74675,     0.74775,     0.74875,     0.74975,     0.75075,     0.75175,     0.75275,     0.75375,     0.75475,     0.75576,     0.75676,     0.75776,     0.75876,     0.75976,     0.76076,     0.76176,     0.76276,     0.76376,     0.76476,     0.76577,     0.76677,     0.76777,\n",
            "           0.76877,     0.76977,     0.77077,     0.77177,     0.77277,     0.77377,     0.77477,     0.77578,     0.77678,     0.77778,     0.77878,     0.77978,     0.78078,     0.78178,     0.78278,     0.78378,     0.78478,     0.78579,     0.78679,     0.78779,     0.78879,     0.78979,     0.79079,     0.79179,\n",
            "           0.79279,     0.79379,     0.79479,      0.7958,      0.7968,      0.7978,      0.7988,      0.7998,      0.8008,      0.8018,      0.8028,      0.8038,      0.8048,     0.80581,     0.80681,     0.80781,     0.80881,     0.80981,     0.81081,     0.81181,     0.81281,     0.81381,     0.81481,     0.81582,\n",
            "           0.81682,     0.81782,     0.81882,     0.81982,     0.82082,     0.82182,     0.82282,     0.82382,     0.82482,     0.82583,     0.82683,     0.82783,     0.82883,     0.82983,     0.83083,     0.83183,     0.83283,     0.83383,     0.83483,     0.83584,     0.83684,     0.83784,     0.83884,     0.83984,\n",
            "           0.84084,     0.84184,     0.84284,     0.84384,     0.84484,     0.84585,     0.84685,     0.84785,     0.84885,     0.84985,     0.85085,     0.85185,     0.85285,     0.85385,     0.85485,     0.85586,     0.85686,     0.85786,     0.85886,     0.85986,     0.86086,     0.86186,     0.86286,     0.86386,\n",
            "           0.86486,     0.86587,     0.86687,     0.86787,     0.86887,     0.86987,     0.87087,     0.87187,     0.87287,     0.87387,     0.87487,     0.87588,     0.87688,     0.87788,     0.87888,     0.87988,     0.88088,     0.88188,     0.88288,     0.88388,     0.88488,     0.88589,     0.88689,     0.88789,\n",
            "           0.88889,     0.88989,     0.89089,     0.89189,     0.89289,     0.89389,     0.89489,      0.8959,      0.8969,      0.8979,      0.8989,      0.8999,      0.9009,      0.9019,      0.9029,      0.9039,      0.9049,     0.90591,     0.90691,     0.90791,     0.90891,     0.90991,     0.91091,     0.91191,\n",
            "           0.91291,     0.91391,     0.91491,     0.91592,     0.91692,     0.91792,     0.91892,     0.91992,     0.92092,     0.92192,     0.92292,     0.92392,     0.92492,     0.92593,     0.92693,     0.92793,     0.92893,     0.92993,     0.93093,     0.93193,     0.93293,     0.93393,     0.93493,     0.93594,\n",
            "           0.93694,     0.93794,     0.93894,     0.93994,     0.94094,     0.94194,     0.94294,     0.94394,     0.94494,     0.94595,     0.94695,     0.94795,     0.94895,     0.94995,     0.95095,     0.95195,     0.95295,     0.95395,     0.95495,     0.95596,     0.95696,     0.95796,     0.95896,     0.95996,\n",
            "           0.96096,     0.96196,     0.96296,     0.96396,     0.96496,     0.96597,     0.96697,     0.96797,     0.96897,     0.96997,     0.97097,     0.97197,     0.97297,     0.97397,     0.97497,     0.97598,     0.97698,     0.97798,     0.97898,     0.97998,     0.98098,     0.98198,     0.98298,     0.98398,\n",
            "           0.98498,     0.98599,     0.98699,     0.98799,     0.98899,     0.98999,     0.99099,     0.99199,     0.99299,     0.99399,     0.99499,       0.996,       0.997,       0.998,       0.999,           1]), array([[    0.25194,     0.25194,     0.39934, ...,           1,           1,           1],\n",
            "       [    0.29148,     0.29148,     0.40166, ...,           1,           1,           1],\n",
            "       [    0.29146,     0.29146,     0.43465, ...,           1,           1,           1],\n",
            "       ...,\n",
            "       [     0.1039,      0.1039,     0.16716, ...,           1,           1,           1],\n",
            "       [    0.37931,     0.37931,     0.48231, ...,           1,           1,           1],\n",
            "       [       0.24,        0.24,      0.3781, ...,           1,           1,           1]]), 'Confidence', 'Precision'], [array([          0,    0.001001,    0.002002,    0.003003,    0.004004,    0.005005,    0.006006,    0.007007,    0.008008,    0.009009,     0.01001,    0.011011,    0.012012,    0.013013,    0.014014,    0.015015,    0.016016,    0.017017,    0.018018,    0.019019,     0.02002,    0.021021,    0.022022,    0.023023,\n",
            "          0.024024,    0.025025,    0.026026,    0.027027,    0.028028,    0.029029,     0.03003,    0.031031,    0.032032,    0.033033,    0.034034,    0.035035,    0.036036,    0.037037,    0.038038,    0.039039,     0.04004,    0.041041,    0.042042,    0.043043,    0.044044,    0.045045,    0.046046,    0.047047,\n",
            "          0.048048,    0.049049,     0.05005,    0.051051,    0.052052,    0.053053,    0.054054,    0.055055,    0.056056,    0.057057,    0.058058,    0.059059,     0.06006,    0.061061,    0.062062,    0.063063,    0.064064,    0.065065,    0.066066,    0.067067,    0.068068,    0.069069,     0.07007,    0.071071,\n",
            "          0.072072,    0.073073,    0.074074,    0.075075,    0.076076,    0.077077,    0.078078,    0.079079,     0.08008,    0.081081,    0.082082,    0.083083,    0.084084,    0.085085,    0.086086,    0.087087,    0.088088,    0.089089,     0.09009,    0.091091,    0.092092,    0.093093,    0.094094,    0.095095,\n",
            "          0.096096,    0.097097,    0.098098,    0.099099,      0.1001,      0.1011,      0.1021,      0.1031,      0.1041,     0.10511,     0.10611,     0.10711,     0.10811,     0.10911,     0.11011,     0.11111,     0.11211,     0.11311,     0.11411,     0.11512,     0.11612,     0.11712,     0.11812,     0.11912,\n",
            "           0.12012,     0.12112,     0.12212,     0.12312,     0.12412,     0.12513,     0.12613,     0.12713,     0.12813,     0.12913,     0.13013,     0.13113,     0.13213,     0.13313,     0.13413,     0.13514,     0.13614,     0.13714,     0.13814,     0.13914,     0.14014,     0.14114,     0.14214,     0.14314,\n",
            "           0.14414,     0.14515,     0.14615,     0.14715,     0.14815,     0.14915,     0.15015,     0.15115,     0.15215,     0.15315,     0.15415,     0.15516,     0.15616,     0.15716,     0.15816,     0.15916,     0.16016,     0.16116,     0.16216,     0.16316,     0.16416,     0.16517,     0.16617,     0.16717,\n",
            "           0.16817,     0.16917,     0.17017,     0.17117,     0.17217,     0.17317,     0.17417,     0.17518,     0.17618,     0.17718,     0.17818,     0.17918,     0.18018,     0.18118,     0.18218,     0.18318,     0.18418,     0.18519,     0.18619,     0.18719,     0.18819,     0.18919,     0.19019,     0.19119,\n",
            "           0.19219,     0.19319,     0.19419,      0.1952,      0.1962,      0.1972,      0.1982,      0.1992,      0.2002,      0.2012,      0.2022,      0.2032,      0.2042,     0.20521,     0.20621,     0.20721,     0.20821,     0.20921,     0.21021,     0.21121,     0.21221,     0.21321,     0.21421,     0.21522,\n",
            "           0.21622,     0.21722,     0.21822,     0.21922,     0.22022,     0.22122,     0.22222,     0.22322,     0.22422,     0.22523,     0.22623,     0.22723,     0.22823,     0.22923,     0.23023,     0.23123,     0.23223,     0.23323,     0.23423,     0.23524,     0.23624,     0.23724,     0.23824,     0.23924,\n",
            "           0.24024,     0.24124,     0.24224,     0.24324,     0.24424,     0.24525,     0.24625,     0.24725,     0.24825,     0.24925,     0.25025,     0.25125,     0.25225,     0.25325,     0.25425,     0.25526,     0.25626,     0.25726,     0.25826,     0.25926,     0.26026,     0.26126,     0.26226,     0.26326,\n",
            "           0.26426,     0.26527,     0.26627,     0.26727,     0.26827,     0.26927,     0.27027,     0.27127,     0.27227,     0.27327,     0.27427,     0.27528,     0.27628,     0.27728,     0.27828,     0.27928,     0.28028,     0.28128,     0.28228,     0.28328,     0.28428,     0.28529,     0.28629,     0.28729,\n",
            "           0.28829,     0.28929,     0.29029,     0.29129,     0.29229,     0.29329,     0.29429,      0.2953,      0.2963,      0.2973,      0.2983,      0.2993,      0.3003,      0.3013,      0.3023,      0.3033,      0.3043,     0.30531,     0.30631,     0.30731,     0.30831,     0.30931,     0.31031,     0.31131,\n",
            "           0.31231,     0.31331,     0.31431,     0.31532,     0.31632,     0.31732,     0.31832,     0.31932,     0.32032,     0.32132,     0.32232,     0.32332,     0.32432,     0.32533,     0.32633,     0.32733,     0.32833,     0.32933,     0.33033,     0.33133,     0.33233,     0.33333,     0.33433,     0.33534,\n",
            "           0.33634,     0.33734,     0.33834,     0.33934,     0.34034,     0.34134,     0.34234,     0.34334,     0.34434,     0.34535,     0.34635,     0.34735,     0.34835,     0.34935,     0.35035,     0.35135,     0.35235,     0.35335,     0.35435,     0.35536,     0.35636,     0.35736,     0.35836,     0.35936,\n",
            "           0.36036,     0.36136,     0.36236,     0.36336,     0.36436,     0.36537,     0.36637,     0.36737,     0.36837,     0.36937,     0.37037,     0.37137,     0.37237,     0.37337,     0.37437,     0.37538,     0.37638,     0.37738,     0.37838,     0.37938,     0.38038,     0.38138,     0.38238,     0.38338,\n",
            "           0.38438,     0.38539,     0.38639,     0.38739,     0.38839,     0.38939,     0.39039,     0.39139,     0.39239,     0.39339,     0.39439,      0.3954,      0.3964,      0.3974,      0.3984,      0.3994,      0.4004,      0.4014,      0.4024,      0.4034,      0.4044,     0.40541,     0.40641,     0.40741,\n",
            "           0.40841,     0.40941,     0.41041,     0.41141,     0.41241,     0.41341,     0.41441,     0.41542,     0.41642,     0.41742,     0.41842,     0.41942,     0.42042,     0.42142,     0.42242,     0.42342,     0.42442,     0.42543,     0.42643,     0.42743,     0.42843,     0.42943,     0.43043,     0.43143,\n",
            "           0.43243,     0.43343,     0.43443,     0.43544,     0.43644,     0.43744,     0.43844,     0.43944,     0.44044,     0.44144,     0.44244,     0.44344,     0.44444,     0.44545,     0.44645,     0.44745,     0.44845,     0.44945,     0.45045,     0.45145,     0.45245,     0.45345,     0.45445,     0.45546,\n",
            "           0.45646,     0.45746,     0.45846,     0.45946,     0.46046,     0.46146,     0.46246,     0.46346,     0.46446,     0.46547,     0.46647,     0.46747,     0.46847,     0.46947,     0.47047,     0.47147,     0.47247,     0.47347,     0.47447,     0.47548,     0.47648,     0.47748,     0.47848,     0.47948,\n",
            "           0.48048,     0.48148,     0.48248,     0.48348,     0.48448,     0.48549,     0.48649,     0.48749,     0.48849,     0.48949,     0.49049,     0.49149,     0.49249,     0.49349,     0.49449,      0.4955,      0.4965,      0.4975,      0.4985,      0.4995,      0.5005,      0.5015,      0.5025,      0.5035,\n",
            "            0.5045,     0.50551,     0.50651,     0.50751,     0.50851,     0.50951,     0.51051,     0.51151,     0.51251,     0.51351,     0.51451,     0.51552,     0.51652,     0.51752,     0.51852,     0.51952,     0.52052,     0.52152,     0.52252,     0.52352,     0.52452,     0.52553,     0.52653,     0.52753,\n",
            "           0.52853,     0.52953,     0.53053,     0.53153,     0.53253,     0.53353,     0.53453,     0.53554,     0.53654,     0.53754,     0.53854,     0.53954,     0.54054,     0.54154,     0.54254,     0.54354,     0.54454,     0.54555,     0.54655,     0.54755,     0.54855,     0.54955,     0.55055,     0.55155,\n",
            "           0.55255,     0.55355,     0.55455,     0.55556,     0.55656,     0.55756,     0.55856,     0.55956,     0.56056,     0.56156,     0.56256,     0.56356,     0.56456,     0.56557,     0.56657,     0.56757,     0.56857,     0.56957,     0.57057,     0.57157,     0.57257,     0.57357,     0.57457,     0.57558,\n",
            "           0.57658,     0.57758,     0.57858,     0.57958,     0.58058,     0.58158,     0.58258,     0.58358,     0.58458,     0.58559,     0.58659,     0.58759,     0.58859,     0.58959,     0.59059,     0.59159,     0.59259,     0.59359,     0.59459,      0.5956,      0.5966,      0.5976,      0.5986,      0.5996,\n",
            "            0.6006,      0.6016,      0.6026,      0.6036,      0.6046,     0.60561,     0.60661,     0.60761,     0.60861,     0.60961,     0.61061,     0.61161,     0.61261,     0.61361,     0.61461,     0.61562,     0.61662,     0.61762,     0.61862,     0.61962,     0.62062,     0.62162,     0.62262,     0.62362,\n",
            "           0.62462,     0.62563,     0.62663,     0.62763,     0.62863,     0.62963,     0.63063,     0.63163,     0.63263,     0.63363,     0.63463,     0.63564,     0.63664,     0.63764,     0.63864,     0.63964,     0.64064,     0.64164,     0.64264,     0.64364,     0.64464,     0.64565,     0.64665,     0.64765,\n",
            "           0.64865,     0.64965,     0.65065,     0.65165,     0.65265,     0.65365,     0.65465,     0.65566,     0.65666,     0.65766,     0.65866,     0.65966,     0.66066,     0.66166,     0.66266,     0.66366,     0.66466,     0.66567,     0.66667,     0.66767,     0.66867,     0.66967,     0.67067,     0.67167,\n",
            "           0.67267,     0.67367,     0.67467,     0.67568,     0.67668,     0.67768,     0.67868,     0.67968,     0.68068,     0.68168,     0.68268,     0.68368,     0.68468,     0.68569,     0.68669,     0.68769,     0.68869,     0.68969,     0.69069,     0.69169,     0.69269,     0.69369,     0.69469,      0.6957,\n",
            "            0.6967,      0.6977,      0.6987,      0.6997,      0.7007,      0.7017,      0.7027,      0.7037,      0.7047,     0.70571,     0.70671,     0.70771,     0.70871,     0.70971,     0.71071,     0.71171,     0.71271,     0.71371,     0.71471,     0.71572,     0.71672,     0.71772,     0.71872,     0.71972,\n",
            "           0.72072,     0.72172,     0.72272,     0.72372,     0.72472,     0.72573,     0.72673,     0.72773,     0.72873,     0.72973,     0.73073,     0.73173,     0.73273,     0.73373,     0.73473,     0.73574,     0.73674,     0.73774,     0.73874,     0.73974,     0.74074,     0.74174,     0.74274,     0.74374,\n",
            "           0.74474,     0.74575,     0.74675,     0.74775,     0.74875,     0.74975,     0.75075,     0.75175,     0.75275,     0.75375,     0.75475,     0.75576,     0.75676,     0.75776,     0.75876,     0.75976,     0.76076,     0.76176,     0.76276,     0.76376,     0.76476,     0.76577,     0.76677,     0.76777,\n",
            "           0.76877,     0.76977,     0.77077,     0.77177,     0.77277,     0.77377,     0.77477,     0.77578,     0.77678,     0.77778,     0.77878,     0.77978,     0.78078,     0.78178,     0.78278,     0.78378,     0.78478,     0.78579,     0.78679,     0.78779,     0.78879,     0.78979,     0.79079,     0.79179,\n",
            "           0.79279,     0.79379,     0.79479,      0.7958,      0.7968,      0.7978,      0.7988,      0.7998,      0.8008,      0.8018,      0.8028,      0.8038,      0.8048,     0.80581,     0.80681,     0.80781,     0.80881,     0.80981,     0.81081,     0.81181,     0.81281,     0.81381,     0.81481,     0.81582,\n",
            "           0.81682,     0.81782,     0.81882,     0.81982,     0.82082,     0.82182,     0.82282,     0.82382,     0.82482,     0.82583,     0.82683,     0.82783,     0.82883,     0.82983,     0.83083,     0.83183,     0.83283,     0.83383,     0.83483,     0.83584,     0.83684,     0.83784,     0.83884,     0.83984,\n",
            "           0.84084,     0.84184,     0.84284,     0.84384,     0.84484,     0.84585,     0.84685,     0.84785,     0.84885,     0.84985,     0.85085,     0.85185,     0.85285,     0.85385,     0.85485,     0.85586,     0.85686,     0.85786,     0.85886,     0.85986,     0.86086,     0.86186,     0.86286,     0.86386,\n",
            "           0.86486,     0.86587,     0.86687,     0.86787,     0.86887,     0.86987,     0.87087,     0.87187,     0.87287,     0.87387,     0.87487,     0.87588,     0.87688,     0.87788,     0.87888,     0.87988,     0.88088,     0.88188,     0.88288,     0.88388,     0.88488,     0.88589,     0.88689,     0.88789,\n",
            "           0.88889,     0.88989,     0.89089,     0.89189,     0.89289,     0.89389,     0.89489,      0.8959,      0.8969,      0.8979,      0.8989,      0.8999,      0.9009,      0.9019,      0.9029,      0.9039,      0.9049,     0.90591,     0.90691,     0.90791,     0.90891,     0.90991,     0.91091,     0.91191,\n",
            "           0.91291,     0.91391,     0.91491,     0.91592,     0.91692,     0.91792,     0.91892,     0.91992,     0.92092,     0.92192,     0.92292,     0.92392,     0.92492,     0.92593,     0.92693,     0.92793,     0.92893,     0.92993,     0.93093,     0.93193,     0.93293,     0.93393,     0.93493,     0.93594,\n",
            "           0.93694,     0.93794,     0.93894,     0.93994,     0.94094,     0.94194,     0.94294,     0.94394,     0.94494,     0.94595,     0.94695,     0.94795,     0.94895,     0.94995,     0.95095,     0.95195,     0.95295,     0.95395,     0.95495,     0.95596,     0.95696,     0.95796,     0.95896,     0.95996,\n",
            "           0.96096,     0.96196,     0.96296,     0.96396,     0.96496,     0.96597,     0.96697,     0.96797,     0.96897,     0.96997,     0.97097,     0.97197,     0.97297,     0.97397,     0.97497,     0.97598,     0.97698,     0.97798,     0.97898,     0.97998,     0.98098,     0.98198,     0.98298,     0.98398,\n",
            "           0.98498,     0.98599,     0.98699,     0.98799,     0.98899,     0.98999,     0.99099,     0.99199,     0.99299,     0.99399,     0.99499,       0.996,       0.997,       0.998,       0.999,           1]), array([[          1,           1,           1, ...,           0,           0,           0],\n",
            "       [    0.98485,     0.98485,     0.95455, ...,           0,           0,           0],\n",
            "       [    0.98305,     0.98305,     0.98305, ...,           0,           0,           0],\n",
            "       ...,\n",
            "       [          1,           1,           1, ...,           0,           0,           0],\n",
            "       [          1,           1,           1, ...,           0,           0,           0],\n",
            "       [          1,           1,           1, ...,           0,           0,           0]]), 'Confidence', 'Recall']]\n",
            "fitness: np.float64(0.7708627811672165)\n",
            "keys: ['metrics/precision(B)', 'metrics/recall(B)', 'metrics/mAP50(B)', 'metrics/mAP50-95(B)']\n",
            "maps: array([    0.83068,     0.62451,     0.74108,     0.81218,     0.64722,     0.76095,     0.70255,     0.85282,     0.78039,     0.77716,     0.73128])\n",
            "names: {0: '10 Rupees', 1: '100 Rupees', 2: '20 Rupees', 3: '200 Rupees', 4: '2000 Rupees', 5: '50 Rupees', 6: '500 Rupees', 7: 'new10 Rupees', 8: 'new100 Rupees', 9: 'new20 Rupees', 10: 'new50 Rupees'}\n",
            "plot: True\n",
            "results_dict: {'metrics/precision(B)': np.float64(0.9517142695881327), 'metrics/recall(B)': np.float64(0.9201495505064424), 'metrics/mAP50(B)': np.float64(0.9497729542271663), 'metrics/mAP50-95(B)': np.float64(0.7509838730494444), 'fitness': np.float64(0.7708627811672165)}\n",
            "save_dir: PosixPath('runs/detect/val2')\n",
            "speed: {'preprocess': 1.881500642034157, 'inference': 4.450412725778489, 'loss': 0.040201949101078674, 'postprocess': 1.573065003286727}\n",
            "task: 'detect'\n"
          ]
        }
      ],
      "source": [
        "from ultralytics import YOLO\n",
        "\n",
        "# Load the trained YOLO model (use best model after training)\n",
        "model = YOLO(\"/content/runs/detect/train/weights/best.pt\")  # Adjust path if needed\n",
        "\n",
        "# Run validation using the 'valid' folder\n",
        "results = model.val(data=\"/content/dataset/data.yaml\")\n",
        "\n",
        "# Print summary of validation results\n",
        "print(results)\n"
      ]
    },
    {
      "cell_type": "code",
      "execution_count": null,
      "metadata": {
        "colab": {
          "base_uri": "https://localhost:8080/"
        },
        "collapsed": true,
        "id": "1kBYp2rbI_kq",
        "outputId": "76408478-7594-4540-caad-1fb0d8330588"
      },
      "outputs": [
        {
          "name": "stdout",
          "output_type": "stream",
          "text": [
            "\n",
            "image 1/297 /content/dataset/test/images/100__100_jpg.rf.76c7b43671df751aa30f68f1a8722595.jpg: 640x640 1 100 Rupees, 9.8ms\n",
            "image 2/297 /content/dataset/test/images/100__106_jpg.rf.2f6e9c461f7621706f49cf6a6384d223.jpg: 640x640 1 100 Rupees, 7.4ms\n",
            "image 3/297 /content/dataset/test/images/100__117_jpg.rf.d26688ece9dfd5ae423b37b3fba904c5.jpg: 640x640 1 100 Rupees, 7.4ms\n",
            "image 4/297 /content/dataset/test/images/100__130_jpg.rf.69fd49ad9f78c3311d9fcdbc0cfa87f3.jpg: 640x640 1 100 Rupees, 8.9ms\n",
            "image 5/297 /content/dataset/test/images/100__147_jpg.rf.bf88131255001feebf823b5d3afbc010.jpg: 640x640 1 100 Rupees, 7.4ms\n",
            "image 6/297 /content/dataset/test/images/100__157_jpg.rf.da3cf9fcc69e53b1906f015ed82850c0.jpg: 640x640 1 100 Rupees, 7.4ms\n",
            "image 7/297 /content/dataset/test/images/100__168_jpg.rf.1c598a5bb39cd0618ff119ce9b9a6598.jpg: 640x640 1 100 Rupees, 7.4ms\n",
            "image 8/297 /content/dataset/test/images/100__180_jpg.rf.8bd677dc91d513a1e450129176895668.jpg: 640x640 1 100 Rupees, 7.4ms\n",
            "image 9/297 /content/dataset/test/images/100__18_jpg.rf.c48fbc522ea73bf022135493abd862d0.jpg: 640x640 1 100 Rupees, 7.4ms\n",
            "image 10/297 /content/dataset/test/images/100__19_jpg.rf.0ecd02bc3ef86f16e359c4c7109749f8.jpg: 640x640 1 100 Rupees, 7.4ms\n",
            "image 11/297 /content/dataset/test/images/100__1_jpg.rf.7716f0313683875ea9fe25e6cb015cfe.jpg: 640x640 1 100 Rupees, 7.8ms\n",
            "image 12/297 /content/dataset/test/images/100__200_jpg.rf.d8cefce176f92b6553c8c301b7f507c4.jpg: 640x640 1 100 Rupees, 7.7ms\n",
            "image 13/297 /content/dataset/test/images/100__208_jpg.rf.89ff8ee8d8e001245da6b89b4c4e69e1.jpg: 640x640 1 100 Rupees, 7.4ms\n",
            "image 14/297 /content/dataset/test/images/100__228_jpg.rf.49da6357165c178a8b06513d2eb39c34.jpg: 640x640 1 100 Rupees, 7.5ms\n",
            "image 15/297 /content/dataset/test/images/100__24_jpg.rf.15f2fe631493ded33a501d0f78943675.jpg: 640x640 1 new100 Rupees, 7.0ms\n",
            "image 16/297 /content/dataset/test/images/100__286_jpg.rf.07822078801d30d68e294cf8de25f280.jpg: 640x640 1 100 Rupees, 10.5ms\n",
            "image 17/297 /content/dataset/test/images/100__287_jpg.rf.4d11517efb9c21c83f1a28279c9d5068.jpg: 640x640 1 100 Rupees, 11.1ms\n",
            "image 18/297 /content/dataset/test/images/100__28_jpg.rf.bac1d3737d00748e4d8afa46acdc28ab.jpg: 640x640 1 100 Rupees, 7.0ms\n",
            "image 19/297 /content/dataset/test/images/100__297_jpg.rf.30627bf1a9da7794c772eda8494e9e7c.jpg: 640x640 2 new100 Rupeess, 7.2ms\n",
            "image 20/297 /content/dataset/test/images/100__306_jpg.rf.159cb2c0bb384951f2be1948cc20a1ec.jpg: 640x640 2 new100 Rupeess, 7.0ms\n",
            "image 21/297 /content/dataset/test/images/100__323_jpg.rf.747df565d6b0f8a613b05d6fba9630a1.jpg: 640x640 1 new100 Rupees, 7.0ms\n",
            "image 22/297 /content/dataset/test/images/100__326_jpg.rf.7ed9fdc63fe281a0baf01466d6b85c58.jpg: 640x640 2 new100 Rupeess, 7.0ms\n",
            "image 23/297 /content/dataset/test/images/100__334_jpg.rf.2cf2b2621f2237b7db6106246200cd5c.jpg: 640x640 1 50 Rupees, 1 500 Rupees, 7.0ms\n",
            "image 24/297 /content/dataset/test/images/100__339_jpg.rf.ed9070503863a8f23e1903409178c5d3.jpg: 640x640 1 new100 Rupees, 6.9ms\n",
            "image 25/297 /content/dataset/test/images/100__341_jpg.rf.4da55e8249ae85bc6f2f731757a14641.jpg: 640x640 2 new100 Rupeess, 7.0ms\n",
            "image 26/297 /content/dataset/test/images/100__360_jpg.rf.f27d3abea678b8c4b242f0d19ebbd0e3.jpg: 640x640 1 new100 Rupees, 7.1ms\n",
            "image 27/297 /content/dataset/test/images/100__365_jpg.rf.00e25c8a047527a78d6b057a00744c72.jpg: 640x640 2 new100 Rupeess, 8.2ms\n",
            "image 28/297 /content/dataset/test/images/100__372_jpg.rf.6c5cf7b8bcc0366e589eb03da1ab7f67.jpg: 640x640 2 new100 Rupeess, 7.3ms\n",
            "image 29/297 /content/dataset/test/images/100__380_jpg.rf.1808e600ce417c5f7a1f9339dc1c4309.jpg: 640x640 1 100 Rupees, 7.5ms\n",
            "image 30/297 /content/dataset/test/images/100__414_jpg.rf.8b7007b49ac1eec5c742724b2aac64b4.jpg: 640x640 1 new100 Rupees, 7.0ms\n",
            "image 31/297 /content/dataset/test/images/100__434_jpg.rf.9eb157d762b5babdf1f117eb166c2dc8.jpg: 640x640 1 new100 Rupees, 7.4ms\n",
            "image 32/297 /content/dataset/test/images/100__63_jpg.rf.19b24c012caf23caa19d0a9a0558ca77.jpg: 640x640 1 100 Rupees, 9.4ms\n",
            "image 33/297 /content/dataset/test/images/100__82_jpg.rf.445acc7d123d3c0070d0120a6b7a05cc.jpg: 640x640 1 100 Rupees, 7.0ms\n",
            "image 34/297 /content/dataset/test/images/100__96_jpg.rf.e8a24a1a6fbfc63dc85df0801d555621.jpg: 640x640 1 100 Rupees, 7.1ms\n",
            "image 35/297 /content/dataset/test/images/100_val_29_jpg.rf.3d8730a7c24e1b0f7547d542b01d5416.jpg: 640x640 1 new100 Rupees, 7.0ms\n",
            "image 36/297 /content/dataset/test/images/100_val_30_jpg.rf.7bbd7560da5eabef7172b736eb810a0a.jpg: 640x640 1 new100 Rupees, 7.4ms\n",
            "image 37/297 /content/dataset/test/images/100_val_31_jpg.rf.54a4d6f32375874bcc4e748782df7cb4.jpg: 640x640 1 new100 Rupees, 8.8ms\n",
            "image 38/297 /content/dataset/test/images/100_val_32_jpg.rf.8d08fa36e9cc2d8720fbe1eac0b53c0c.jpg: 640x640 1 new100 Rupees, 11.2ms\n",
            "image 39/297 /content/dataset/test/images/10__114_jpg.rf.cb65e0c65984e8d4c803a3f1cd096bd0.jpg: 640x640 1 10 Rupees, 6.8ms\n",
            "image 40/297 /content/dataset/test/images/10__136_jpg.rf.e6113b82cb12e4704b1ad6965a1ab5d4.jpg: 640x640 1 10 Rupees, 6.9ms\n",
            "image 41/297 /content/dataset/test/images/10__138_jpg.rf.4b7fe88c205a5996add371151ba5b62c.jpg: 640x640 1 10 Rupees, 7.5ms\n",
            "image 42/297 /content/dataset/test/images/10__150_jpg.rf.48b349a125179b57add44af337c2446a.jpg: 640x640 1 10 Rupees, 7.3ms\n",
            "image 43/297 /content/dataset/test/images/10__171_jpg.rf.faa7ab8e07f29d79cd10bee07ee1cc8d.jpg: 640x640 1 10 Rupees, 7.4ms\n",
            "image 44/297 /content/dataset/test/images/10__173_jpg.rf.3a3efe22f0e066495720b66942823ef4.jpg: 640x640 1 10 Rupees, 7.6ms\n",
            "image 45/297 /content/dataset/test/images/10__191_jpg.rf.b55c34c9f5276a663e79f98b40ac22c3.jpg: 640x640 1 10 Rupees, 6.9ms\n",
            "image 46/297 /content/dataset/test/images/10__1_jpg.rf.2f49e055986060e5d801b8f7cfc90709.jpg: 640x640 1 10 Rupees, 11.6ms\n",
            "image 47/297 /content/dataset/test/images/10__204_jpg.rf.db450a17936a78d0d714475047c02b27.jpg: 640x640 1 10 Rupees, 10.5ms\n",
            "image 48/297 /content/dataset/test/images/10__227_jpg.rf.5bc4808c4b5d280b403eddea03ed01fc.jpg: 640x640 1 10 Rupees, 13.9ms\n",
            "image 49/297 /content/dataset/test/images/10__240_jpg.rf.40f80f1e104727ca3d2c76d4768d1074.jpg: 640x640 1 10 Rupees, 11.3ms\n",
            "image 50/297 /content/dataset/test/images/10__252_jpg.rf.cf1dd0f35df858d9f74f9cc8d8ddf724.jpg: 640x640 1 50 Rupees, 7.1ms\n",
            "image 51/297 /content/dataset/test/images/10__255_jpg.rf.fda4ec0edeaad602208b0b997baf0c19.jpg: 640x640 1 10 Rupees, 7.0ms\n",
            "image 52/297 /content/dataset/test/images/10__286_jpg.rf.3b86f63e2ce261633047c7d1570baed8.jpg: 640x640 (no detections), 7.6ms\n",
            "image 53/297 /content/dataset/test/images/10__296_jpg.rf.5199ac8f3c3fee6301fccdc04ebe1510.jpg: 640x640 (no detections), 7.3ms\n",
            "image 54/297 /content/dataset/test/images/10__309_jpg.rf.020fcf44a26fef55073718d9bde68d49.jpg: 640x640 2 new10 Rupeess, 7.6ms\n",
            "image 55/297 /content/dataset/test/images/10__333_jpg.rf.ce1a3d3d354e8059198007714e922e05.jpg: 640x640 1 10 Rupees, 7.0ms\n",
            "image 56/297 /content/dataset/test/images/10__33_jpg.rf.45fa929119af227edacfc4c5dc88ad76.jpg: 640x640 3 10 Rupeess, 6.7ms\n",
            "image 57/297 /content/dataset/test/images/10__382_jpg.rf.b7d5a8de7582161fac95c9e5d3bdc7b1.jpg: 640x640 2 new10 Rupeess, 7.0ms\n",
            "image 58/297 /content/dataset/test/images/10__406_jpg.rf.d0cdf4cfc6cd43b6ff41c665f719ddfa.jpg: 640x640 1 new10 Rupees, 15.3ms\n",
            "image 59/297 /content/dataset/test/images/10__422_jpg.rf.b0f5b76a4c68bc2766037df1194f80c3.jpg: 640x640 1 new10 Rupees, 7.1ms\n",
            "image 60/297 /content/dataset/test/images/10__436_jpg.rf.f363e3f774fabc3365519a732127f6a0.jpg: 640x640 1 new10 Rupees, 6.8ms\n",
            "image 61/297 /content/dataset/test/images/10__444_jpg.rf.6095f50490cc2f97ab27d2cd1b5daa00.jpg: 640x640 1 new10 Rupees, 7.1ms\n",
            "image 62/297 /content/dataset/test/images/10__55_jpg.rf.6bda7b1661b18e13e5cbc1d8b0d6e6c7.jpg: 640x640 1 new10 Rupees, 6.7ms\n",
            "image 63/297 /content/dataset/test/images/10__58_jpg.rf.a1413efe5769ac6ffc743e189884854b.jpg: 640x640 1 10 Rupees, 7.5ms\n",
            "image 64/297 /content/dataset/test/images/10__72_jpg.rf.b3eff06cb90509e6042ba56aa98fb691.jpg: 640x640 1 10 Rupees, 7.6ms\n",
            "image 65/297 /content/dataset/test/images/10__80_jpg.rf.99e71b48aae92e5307541c0527eddad0.jpg: 640x640 1 10 Rupees, 7.5ms\n",
            "image 66/297 /content/dataset/test/images/10__86_jpg.rf.9285d760e665c7764bbb6039ba3fb760.jpg: 640x640 1 10 Rupees, 7.5ms\n",
            "image 67/297 /content/dataset/test/images/10__94_jpg.rf.6c0c78106634f5ff0ad0e69ac5c0ff8d.jpg: 640x640 1 10 Rupees, 7.7ms\n",
            "image 68/297 /content/dataset/test/images/10_val_42_jpg.rf.103f22610fc8a19f15800e5652467eeb.jpg: 640x640 1 new10 Rupees, 7.1ms\n",
            "image 69/297 /content/dataset/test/images/10_val_44_jpg.rf.6116642f3e8a53359f9d7dcb1fb1ff98.jpg: 640x640 1 new10 Rupees, 10.0ms\n",
            "image 70/297 /content/dataset/test/images/10_val_7_jpg.rf.8ea77e0a94bba3d01af3a5ed7adfc059.jpg: 640x640 2 new10 Rupeess, 10.9ms\n",
            "image 71/297 /content/dataset/test/images/200-__107_jpg.rf.67a8703386cafa04b1f06068b90b2982.jpg: 640x640 1 200 Rupees, 10.6ms\n",
            "image 72/297 /content/dataset/test/images/200-__114_jpg.rf.ed5bb0c92aec11fb5b4eb8d940526ed2.jpg: 640x640 2 200 Rupeess, 9.9ms\n",
            "image 73/297 /content/dataset/test/images/200-__118_jpg.rf.143fc3400bfbd203ecd4a07640891b18.jpg: 640x640 1 200 Rupees, 10.2ms\n",
            "image 74/297 /content/dataset/test/images/200-__128_jpg.rf.8c5e878a67afb7e7c7530cc62a063638.jpg: 640x640 1 200 Rupees, 10.7ms\n",
            "image 75/297 /content/dataset/test/images/200-__133_jpg.rf.a4cd8498992551144b8af4c43b8c57d4.jpg: 640x640 1 200 Rupees, 10.1ms\n",
            "image 76/297 /content/dataset/test/images/200-__134_jpg.rf.8ea37405bb6cab049d5c5159b306df89.jpg: 640x640 1 200 Rupees, 6.9ms\n",
            "image 77/297 /content/dataset/test/images/200-__141_jpg.rf.87553b9777186c8985687c6f23fb0e68.jpg: 640x640 3 200 Rupeess, 7.0ms\n",
            "image 78/297 /content/dataset/test/images/200-__146_jpg.rf.93d470dfc7079bf99eacc883e4fa4c17.jpg: 640x640 2 200 Rupeess, 7.3ms\n",
            "image 79/297 /content/dataset/test/images/200-__16_jpg.rf.9b478abba83479db29c3d4e904c380da.jpg: 640x640 1 200 Rupees, 9.2ms\n",
            "image 80/297 /content/dataset/test/images/200-__184_jpg.rf.ebb23de00ff675d959a768753a7ba356.jpg: 640x640 1 200 Rupees, 6.7ms\n",
            "image 81/297 /content/dataset/test/images/200-__208_jpg.rf.d84788cd4a648086e4a50a95b07ffa96.jpg: 640x640 1 200 Rupees, 6.8ms\n",
            "image 82/297 /content/dataset/test/images/200-__218_jpg.rf.08c12338f66f62b56fa0a2cc1999dff1.jpg: 640x640 1 200 Rupees, 7.3ms\n",
            "image 83/297 /content/dataset/test/images/200-__23_jpg.rf.9d68ab326c7f7d28a2e38d8ac544e53b.jpg: 640x640 1 200 Rupees, 7.0ms\n",
            "image 84/297 /content/dataset/test/images/200-__252_jpg.rf.4a97614962de4b98315dc15bd4baa4e8.jpg: 640x640 1 200 Rupees, 7.7ms\n",
            "image 85/297 /content/dataset/test/images/200-__254_jpg.rf.6192c2d8e36a7d0826cf559b2b07511e.jpg: 640x640 1 200 Rupees, 7.0ms\n",
            "image 86/297 /content/dataset/test/images/200-__268_jpg.rf.7756c542f9e32e707a5ac4aa84fa6037.jpg: 640x640 1 200 Rupees, 7.4ms\n",
            "image 87/297 /content/dataset/test/images/200-__306_jpg.rf.6cf686a53506e16b2345ef1a6cd9ef9c.jpg: 640x640 1 200 Rupees, 6.9ms\n",
            "image 88/297 /content/dataset/test/images/200-__308_jpg.rf.40f3fecf3ce8f3b3c09ac4861c28d3b4.jpg: 640x640 1 200 Rupees, 8.2ms\n",
            "image 89/297 /content/dataset/test/images/200-__314_jpg.rf.e4ae4d7f77ed01b2ff103b6c9f8632d5.jpg: 640x640 1 200 Rupees, 7.3ms\n",
            "image 90/297 /content/dataset/test/images/200-__352_jpg.rf.0b40654176aa07ed7b4e81197a7d2c90.jpg: 640x640 1 200 Rupees, 7.1ms\n",
            "image 91/297 /content/dataset/test/images/200-__374_jpg.rf.4cdc1ca651b53636572bdcc700cf5740.jpg: 640x640 1 200 Rupees, 7.3ms\n",
            "image 92/297 /content/dataset/test/images/200-__380_jpg.rf.78713b45b2447410f5b1bd7957d71e2d.jpg: 640x640 1 200 Rupees, 10.9ms\n",
            "image 93/297 /content/dataset/test/images/200-__495_jpg.rf.e0c85076f56524fd72b6ee6a57d9f1a1.jpg: 640x640 1 200 Rupees, 11.3ms\n",
            "image 94/297 /content/dataset/test/images/200-__79_jpg.rf.c76b8fb5de618379af9ba8aa377cca10.jpg: 640x640 1 200 Rupees, 7.3ms\n",
            "image 95/297 /content/dataset/test/images/200-__95_jpg.rf.3ee993b8c14e38706928caa45241910c.jpg: 640x640 2 200 Rupeess, 7.4ms\n",
            "image 96/297 /content/dataset/test/images/200-__99_jpg.rf.f1049906158855c96ac9a95e6913fde9.jpg: 640x640 2 200 Rupeess, 8.2ms\n",
            "image 97/297 /content/dataset/test/images/2000__101_jpg.rf.3fa6fb5970ea30535a9fd2e5d2e7f046.jpg: 640x640 3 2000 Rupeess, 7.1ms\n",
            "image 98/297 /content/dataset/test/images/2000__105_jpg.rf.a22b6b3e5c3073d18a33b823e80879e2.jpg: 640x640 2 2000 Rupeess, 6.8ms\n",
            "image 99/297 /content/dataset/test/images/2000__115_jpg.rf.d7d98b0d9235f5ebddd7d4d3cfa78fcf.jpg: 640x640 1 2000 Rupees, 6.9ms\n",
            "image 100/297 /content/dataset/test/images/2000__120_jpg.rf.c3359e2de575050cee8ad24c33845687.jpg: 640x640 2 2000 Rupeess, 7.1ms\n",
            "image 101/297 /content/dataset/test/images/2000__126_jpg.rf.044f3b823fcb287c50638715385b887b.jpg: 640x640 1 2000 Rupees, 8.4ms\n",
            "image 102/297 /content/dataset/test/images/2000__150_jpg.rf.ac44e692d906e27a50690ad8f476be3e.jpg: 640x640 1 2000 Rupees, 7.3ms\n",
            "image 103/297 /content/dataset/test/images/2000__165_jpg.rf.d1e528de8b6d6d80ed528eb04df059a9.jpg: 640x640 2 2000 Rupeess, 7.2ms\n",
            "image 104/297 /content/dataset/test/images/2000__171_jpg.rf.0a4c7f71a7b6f647e381151ef1a700de.jpg: 640x640 3 2000 Rupeess, 7.1ms\n",
            "image 105/297 /content/dataset/test/images/2000__173_jpg.rf.0edc433f76db187769146cea3cbbd098.jpg: 640x640 2 2000 Rupeess, 8.0ms\n",
            "image 106/297 /content/dataset/test/images/2000__180_jpg.rf.953b517fb029d4e3bfa3fc0c0cbef19e.jpg: 640x640 2 2000 Rupeess, 7.2ms\n",
            "image 107/297 /content/dataset/test/images/2000__188_jpg.rf.f0698e178f11c8fd8367d4d7eb4b2838.jpg: 640x640 1 2000 Rupees, 7.4ms\n",
            "image 108/297 /content/dataset/test/images/2000__194_jpg.rf.1c82c710ba5b0b54f6819180525b6623.jpg: 640x640 2 2000 Rupeess, 13.2ms\n",
            "image 109/297 /content/dataset/test/images/2000__197_jpg.rf.8589c3503b50d437460a0a078b011e00.jpg: 640x640 1 2000 Rupees, 10.8ms\n",
            "image 110/297 /content/dataset/test/images/2000__222_jpg.rf.dcf7ccabffc9c457887b6d755a482e2a.jpg: 640x640 1 2000 Rupees, 11.3ms\n",
            "image 111/297 /content/dataset/test/images/2000__230_jpg.rf.bc0085d867c4b2c13fb124b6060ab010.jpg: 640x640 1 2000 Rupees, 11.8ms\n",
            "image 112/297 /content/dataset/test/images/2000__233_jpg.rf.97783de65ef664d2fdf960fbf173a319.jpg: 640x640 1 2000 Rupees, 11.7ms\n",
            "image 113/297 /content/dataset/test/images/2000__264_jpg.rf.51cba76bde7c816b4ad83a685b4c1645.jpg: 640x640 1 2000 Rupees, 12.5ms\n",
            "image 114/297 /content/dataset/test/images/2000__269_jpg.rf.a0ad1b82544d0af6c8317db8697067d5.jpg: 640x640 1 2000 Rupees, 13.8ms\n",
            "image 115/297 /content/dataset/test/images/2000__270_jpg.rf.d5fe019aa3d7e00fcfe2ac1ac650c7b2.jpg: 640x640 1 2000 Rupees, 13.3ms\n",
            "image 116/297 /content/dataset/test/images/2000__288_jpg.rf.520f7bda06ffa4e98de564f806e03107.jpg: 640x640 1 2000 Rupees, 11.5ms\n",
            "image 117/297 /content/dataset/test/images/2000__296_jpg.rf.b9ff525baff03f1f373c0afa8347c89a.jpg: 640x640 1 2000 Rupees, 9.5ms\n",
            "image 118/297 /content/dataset/test/images/2000__328_jpg.rf.0d4eea50151888ed35c81d140c0f5361.jpg: 640x640 1 2000 Rupees, 12.1ms\n",
            "image 119/297 /content/dataset/test/images/2000__343_jpg.rf.27daee93d633edceba5b54d38ebc3c83.jpg: 640x640 1 2000 Rupees, 9.9ms\n",
            "image 120/297 /content/dataset/test/images/2000__344_jpg.rf.8e915c9cb570e33896ec6742b16459f0.jpg: 640x640 1 2000 Rupees, 10.8ms\n",
            "image 121/297 /content/dataset/test/images/2000__347_jpg.rf.bd12cace7331f878993603b622747ec6.jpg: 640x640 1 2000 Rupees, 13.4ms\n",
            "image 122/297 /content/dataset/test/images/2000__349_jpg.rf.9a46a8d6841e9c1f0bdccfe4b4895eed.jpg: 640x640 1 2000 Rupees, 17.8ms\n",
            "image 123/297 /content/dataset/test/images/2000__35_jpg.rf.1bbe98215e54b7366524e70a07c02ab9.jpg: 640x640 1 2000 Rupees, 16.7ms\n",
            "image 124/297 /content/dataset/test/images/2000__390_jpg.rf.977fc04764568b4bad9188e6191b66fb.jpg: 640x640 1 2000 Rupees, 9.7ms\n",
            "image 125/297 /content/dataset/test/images/2000__396_jpg.rf.71da328ab3ddba67f30eda82f518837d.jpg: 640x640 1 2000 Rupees, 9.5ms\n",
            "image 126/297 /content/dataset/test/images/2000__401_jpg.rf.19115f385c942cca96a66bf98d26d3c7.jpg: 640x640 1 2000 Rupees, 10.9ms\n",
            "image 127/297 /content/dataset/test/images/2000__405_jpg.rf.59941cef79165d5e2c45a04a1dfa7821.jpg: 640x640 1 2000 Rupees, 10.7ms\n",
            "image 128/297 /content/dataset/test/images/2000__413_jpg.rf.991a74b713796ef0f2bb171259a68825.jpg: 640x640 1 2000 Rupees, 9.0ms\n",
            "image 129/297 /content/dataset/test/images/2000__422_jpg.rf.52c55867d8f3d1e06fd4657b8342d1f4.jpg: 640x640 1 2000 Rupees, 8.8ms\n",
            "image 130/297 /content/dataset/test/images/2000__428_jpg.rf.cdfbef13ed3cf1f6cdaabf3c9ea4e915.jpg: 640x640 1 2000 Rupees, 9.6ms\n",
            "image 131/297 /content/dataset/test/images/2000__432_jpg.rf.06e85e96c886ee81c86cb7368249c5ef.jpg: 640x640 1 2000 Rupees, 13.1ms\n",
            "image 132/297 /content/dataset/test/images/2000__51_jpg.rf.288d15b5ce63f32491b4dc4896059e69.jpg: 640x640 1 2000 Rupees, 10.1ms\n",
            "image 133/297 /content/dataset/test/images/2000__94_jpg.rf.3be6a607b2a9bbe7a49fdedbb5637bd7.jpg: 640x640 2 2000 Rupeess, 10.0ms\n",
            "image 134/297 /content/dataset/test/images/2000_val_15_jpg.rf.19a187be40812e21f41bcf17d208ac37.jpg: 640x640 1 2000 Rupees, 11.8ms\n",
            "image 135/297 /content/dataset/test/images/2000_val_17_jpg.rf.2eb468361ee947089f4f8ca396d4e166.jpg: 640x640 1 2000 Rupees, 9.5ms\n",
            "image 136/297 /content/dataset/test/images/2000_val_22_jpg.rf.94cfe87a89445aabfadf258fabc76335.jpg: 640x640 1 2000 Rupees, 9.8ms\n",
            "image 137/297 /content/dataset/test/images/2000_val_29_jpg.rf.3af4ef2727a98b606445610b0d48e0f4.jpg: 640x640 1 2000 Rupees, 13.6ms\n",
            "image 138/297 /content/dataset/test/images/200_val_12_jpg.rf.6d33bb36271d6450ba35a6367d807db8.jpg: 640x640 1 200 Rupees, 12.4ms\n",
            "image 139/297 /content/dataset/test/images/200_val_21_jpg.rf.1c22586476cf4dd3d0632a2f475590c8.jpg: 640x640 1 200 Rupees, 11.1ms\n",
            "image 140/297 /content/dataset/test/images/200_val_42_jpg.rf.1e4bac1f07bfd4dfcd9b439b7970d026.jpg: 640x640 1 200 Rupees, 9.8ms\n",
            "image 141/297 /content/dataset/test/images/20__119_jpg.rf.8bfc71c35559b78b0e971b6eb0228368.jpg: 640x640 1 20 Rupees, 12.5ms\n",
            "image 142/297 /content/dataset/test/images/20__122_jpg.rf.e4c5f856fc100e528f279f7521fc82e4.jpg: 640x640 1 20 Rupees, 9.3ms\n",
            "image 143/297 /content/dataset/test/images/20__138_jpg.rf.b613a0bf3c1f6785ec409aaa47bfc020.jpg: 640x640 1 20 Rupees, 9.7ms\n",
            "image 144/297 /content/dataset/test/images/20__149_jpg.rf.a96b7304c968080c2c8ec9bf340f6235.jpg: 640x640 1 20 Rupees, 9.5ms\n",
            "image 145/297 /content/dataset/test/images/20__160_jpg.rf.0b67b6e6fc1e416c7f0cd3c992e9d6ff.jpg: 640x640 1 20 Rupees, 9.4ms\n",
            "image 146/297 /content/dataset/test/images/20__162_jpg.rf.fb22ba80c78aebb314df80afed655586.jpg: 640x640 1 20 Rupees, 9.7ms\n",
            "image 147/297 /content/dataset/test/images/20__163_jpg.rf.ea022ee0572187d99f7c8967bbd5db96.jpg: 640x640 1 20 Rupees, 9.6ms\n",
            "image 148/297 /content/dataset/test/images/20__189_jpg.rf.37f142d5b846159fd2382ab140ee2581.jpg: 640x640 1 20 Rupees, 10.1ms\n",
            "image 149/297 /content/dataset/test/images/20__190_jpg.rf.a8efdad375b1b974a77c5d98b652de9d.jpg: 640x640 1 20 Rupees, 12.3ms\n",
            "image 150/297 /content/dataset/test/images/20__202_jpg.rf.d52db21f4c6b0e523ef7be71a0124579.jpg: 640x640 1 20 Rupees, 14.5ms\n",
            "image 151/297 /content/dataset/test/images/20__215_jpg.rf.03a88357e75a0b16b40aa858a333e2e7.jpg: 640x640 1 20 Rupees, 11.7ms\n",
            "image 152/297 /content/dataset/test/images/20__219_jpg.rf.7d5f3a6c313b85c3adaf14748fc56649.jpg: 640x640 1 20 Rupees, 9.2ms\n",
            "image 153/297 /content/dataset/test/images/20__221_jpg.rf.26037c43daa44115ea0ab7df0f9f973e.jpg: 640x640 1 20 Rupees, 9.3ms\n",
            "image 154/297 /content/dataset/test/images/20__254_jpg.rf.2a350eec6e10498fea1d475261065d34.jpg: 640x640 1 20 Rupees, 9.1ms\n",
            "image 155/297 /content/dataset/test/images/20__257_jpg.rf.70871741e8e46371e72169195da1469a.jpg: 640x640 1 20 Rupees, 8.8ms\n",
            "image 156/297 /content/dataset/test/images/20__269_jpg.rf.42b15661adc3f0b6a3db8a581c3fd6f9.jpg: 640x640 1 20 Rupees, 9.7ms\n",
            "image 157/297 /content/dataset/test/images/20__287_jpg.rf.817014e18f69c07243df50dedb618464.jpg: 640x640 2 new20 Rupeess, 9.5ms\n",
            "image 158/297 /content/dataset/test/images/20__290_jpg.rf.e55f9b732c026f5e86a36f8594d2036b.jpg: 640x640 2 new20 Rupeess, 12.1ms\n",
            "image 159/297 /content/dataset/test/images/20__301_jpg.rf.270d7f8ea46f4df7aa8e05404f6b0598.jpg: 640x640 2 20 Rupeess, 12.1ms\n",
            "image 160/297 /content/dataset/test/images/20__307_jpg.rf.b92ba907266be14f03bc8ac00ed5fa02.jpg: 640x640 2 200 Rupeess, 10.9ms\n",
            "image 161/297 /content/dataset/test/images/20__325_jpg.rf.e35275e39685aca9b4c6cd954804a168.jpg: 640x640 1 20 Rupees, 8.4ms\n",
            "image 162/297 /content/dataset/test/images/20__329_jpg.rf.8bd120c94ace85a1465979121bfe24da.jpg: 640x640 2 20 Rupeess, 8.5ms\n",
            "image 163/297 /content/dataset/test/images/20__333_jpg.rf.b3fada9bddcbe3a82d3cbec7aee19cb8.jpg: 640x640 2 20 Rupeess, 10.0ms\n",
            "image 164/297 /content/dataset/test/images/20__336_jpg.rf.97e9b726b7552abf424f2a6368161c37.jpg: 640x640 2 20 Rupeess, 22.3ms\n",
            "image 165/297 /content/dataset/test/images/20__337_jpg.rf.275240a7029a098c89c84a7432f99f55.jpg: 640x640 1 20 Rupees, 10.2ms\n",
            "image 166/297 /content/dataset/test/images/20__339_jpg.rf.3f3abdd90bdd081007689430f269b855.jpg: 640x640 2 20 Rupeess, 9.1ms\n",
            "image 167/297 /content/dataset/test/images/20__345_jpg.rf.4232969d87ba698d98953f8a9a95e5be.jpg: 640x640 1 new20 Rupees, 8.8ms\n",
            "image 168/297 /content/dataset/test/images/20__358_jpg.rf.259b70a68fc719e2be2d2d71302673ec.jpg: 640x640 1 new20 Rupees, 8.8ms\n",
            "image 169/297 /content/dataset/test/images/20__365_jpg.rf.1e25d555cd4f3df1b5b72843609198e3.jpg: 640x640 1 new20 Rupees, 8.6ms\n",
            "image 170/297 /content/dataset/test/images/20__374_jpg.rf.b88be48d3bff2f5d9a2be43d81b00709.jpg: 640x640 2 new20 Rupeess, 8.5ms\n",
            "image 171/297 /content/dataset/test/images/20__379_jpg.rf.1889b80752f6a704e79f34aa015c38c5.jpg: 640x640 1 new20 Rupees, 8.3ms\n",
            "image 172/297 /content/dataset/test/images/20__3_jpg.rf.ac391ace90e6627133fc4813e2083ea5.jpg: 640x640 1 20 Rupees, 9.2ms\n",
            "image 173/297 /content/dataset/test/images/20__408_jpg.rf.020c6ac7b1773020b5307a4e8da13a31.jpg: 640x640 1 new20 Rupees, 1 new50 Rupees, 8.3ms\n",
            "image 174/297 /content/dataset/test/images/20__412_jpg.rf.93539921b69fe710b5c7824e2e2f73dd.jpg: 640x640 1 new20 Rupees, 8.7ms\n",
            "image 175/297 /content/dataset/test/images/20__416_jpg.rf.09f9ef251545948bd40465fd8443292a.jpg: 640x640 1 new20 Rupees, 12.6ms\n",
            "image 176/297 /content/dataset/test/images/20__420_jpg.rf.73b46dbaad0f7df43f3bed524697ba00.jpg: 640x640 1 new20 Rupees, 10.4ms\n",
            "image 177/297 /content/dataset/test/images/20__432_jpg.rf.9e80d3762fc7c4a9f41752e224e2186e.jpg: 640x640 1 new20 Rupees, 12.0ms\n",
            "image 178/297 /content/dataset/test/images/20__436_jpg.rf.aeb25f22b047bf8062935d4e2c1ee3e6.jpg: 640x640 1 new20 Rupees, 9.6ms\n",
            "image 179/297 /content/dataset/test/images/20__444_jpg.rf.0002a7a7c3aaa7741a5aaf09f7339019.jpg: 640x640 2 new20 Rupeess, 11.9ms\n",
            "image 180/297 /content/dataset/test/images/20__70_jpg.rf.460a98b7c7e27793a2141ca6584f414d.jpg: 640x640 1 20 Rupees, 10.9ms\n",
            "image 181/297 /content/dataset/test/images/20__72_jpg.rf.567bf4c99467de0f841b45592f0cc499.jpg: 640x640 1 new20 Rupees, 11.0ms\n",
            "image 182/297 /content/dataset/test/images/20__89_jpg.rf.777a0fdf956a48376bae19a06c3f93eb.jpg: 640x640 1 20 Rupees, 13.0ms\n",
            "image 183/297 /content/dataset/test/images/20__99_jpg.rf.f8f6f956e9c84bd72bdc743683c13469.jpg: 640x640 (no detections), 9.1ms\n",
            "image 184/297 /content/dataset/test/images/20_val_13_jpg.rf.435993b7134d475b630c69b85c8b30fe.jpg: 640x640 1 new20 Rupees, 10.9ms\n",
            "image 185/297 /content/dataset/test/images/20_val_15_jpg.rf.db4a54517792c2e85cc78849a0b8533f.jpg: 640x640 1 20 Rupees, 8.7ms\n",
            "image 186/297 /content/dataset/test/images/20_val_33_jpg.rf.bde890f7f69e63393965c35e2a63993f.jpg: 640x640 1 new20 Rupees, 12.1ms\n",
            "image 187/297 /content/dataset/test/images/20_val_39_jpg.rf.698858cacc88f954b076890a12818043.jpg: 640x640 1 new20 Rupees, 8.8ms\n",
            "image 188/297 /content/dataset/test/images/20_val_42_jpg.rf.c402f60eed14611a21ff32b1cd2454dc.jpg: 640x640 1 new20 Rupees, 8.8ms\n",
            "image 189/297 /content/dataset/test/images/20_val_43_jpg.rf.f044b846c65cf4fcf27612708b4fca97.jpg: 640x640 1 new20 Rupees, 17.4ms\n",
            "image 190/297 /content/dataset/test/images/500__113_jpg.rf.453064d50fc3a5058ec4f42232612d40.jpg: 640x640 3 500 Rupeess, 9.5ms\n",
            "image 191/297 /content/dataset/test/images/500__142_jpg.rf.76645d8702b5e00e8b270d1ca438c136.jpg: 640x640 2 500 Rupeess, 8.9ms\n",
            "image 192/297 /content/dataset/test/images/500__159_jpg.rf.07fd6bb6e4d18870303c6d2013e8b937.jpg: 640x640 1 500 Rupees, 14.5ms\n",
            "image 193/297 /content/dataset/test/images/500__167_jpg.rf.97ba15a7045864ef4c943bdccf47b3f5.jpg: 640x640 2 500 Rupeess, 9.4ms\n",
            "image 194/297 /content/dataset/test/images/500__178_jpg.rf.3f10d9db4d7288d160f63ee17c13f6fc.jpg: 640x640 4 500 Rupeess, 13.5ms\n",
            "image 195/297 /content/dataset/test/images/500__179_jpg.rf.25bbe6dcd0430d4e96b2f06c4826a6ee.jpg: 640x640 1 500 Rupees, 13.6ms\n",
            "image 196/297 /content/dataset/test/images/500__184_jpg.rf.743300c7cc8d2300ca241abf1e6a67d5.jpg: 640x640 1 500 Rupees, 13.6ms\n",
            "image 197/297 /content/dataset/test/images/500__190_jpg.rf.76faba6eb72c1f2dc7e05f1289f5464b.jpg: 640x640 2 500 Rupeess, 14.4ms\n",
            "image 198/297 /content/dataset/test/images/500__197_jpg.rf.da801e9601b766bb51e41a57680859b4.jpg: 640x640 1 500 Rupees, 12.3ms\n",
            "image 199/297 /content/dataset/test/images/500__208_jpg.rf.497453dce1d055457f681c483bc033ec.jpg: 640x640 1 500 Rupees, 12.6ms\n",
            "image 200/297 /content/dataset/test/images/500__228_jpg.rf.8f49a99d9c520007c388b0dd954ee5fd.jpg: 640x640 1 500 Rupees, 13.1ms\n",
            "image 201/297 /content/dataset/test/images/500__230_jpg.rf.954606ef2303887719d212f964e6d73a.jpg: 640x640 1 500 Rupees, 21.5ms\n",
            "image 202/297 /content/dataset/test/images/500__259_jpg.rf.16c2345a38402aad6612f7c6d5bc2061.jpg: 640x640 1 500 Rupees, 23.8ms\n",
            "image 203/297 /content/dataset/test/images/500__272_jpg.rf.5d9100b910502f502e2a855cfecd352f.jpg: 640x640 1 500 Rupees, 15.3ms\n",
            "image 204/297 /content/dataset/test/images/500__282_jpg.rf.6b0d807491c56d3e4102d0b51a817d6f.jpg: 640x640 1 500 Rupees, 11.0ms\n",
            "image 205/297 /content/dataset/test/images/500__285_jpg.rf.1809efe621b422119d6346956af2ce9c.jpg: 640x640 1 500 Rupees, 17.0ms\n",
            "image 206/297 /content/dataset/test/images/500__300_jpg.rf.e4fa42ba33d636ae50e9fd84fe939710.jpg: 640x640 1 500 Rupees, 9.3ms\n",
            "image 207/297 /content/dataset/test/images/500__305_jpg.rf.f04e12e965bc0faf1475562ce15d0577.jpg: 640x640 1 500 Rupees, 13.7ms\n",
            "image 208/297 /content/dataset/test/images/500__307_jpg.rf.b30fd6c12ed15316b78e86b5f1d4d501.jpg: 640x640 1 500 Rupees, 14.3ms\n",
            "image 209/297 /content/dataset/test/images/500__308_jpg.rf.f97bd8583d70277158eb299a1471280f.jpg: 640x640 1 500 Rupees, 10.6ms\n",
            "image 210/297 /content/dataset/test/images/500__309_jpg.rf.d4788ee25c7286531f1d89485d0acb81.jpg: 640x640 1 500 Rupees, 9.8ms\n",
            "image 211/297 /content/dataset/test/images/500__313_jpg.rf.eca20092104b8d1c96faf44a42ca6687.jpg: 640x640 1 500 Rupees, 11.5ms\n",
            "image 212/297 /content/dataset/test/images/500__348_jpg.rf.0a25a6688f29c997164069e20a8b6aac.jpg: 640x640 1 500 Rupees, 10.3ms\n",
            "image 213/297 /content/dataset/test/images/500__353_jpg.rf.68fa839440a5fee322df34840c022e89.jpg: 640x640 1 500 Rupees, 7.9ms\n",
            "image 214/297 /content/dataset/test/images/500__354_jpg.rf.2a5fd7fe60bceb6268936b607dce3057.jpg: 640x640 1 500 Rupees, 9.2ms\n",
            "image 215/297 /content/dataset/test/images/500__365_jpg.rf.ee8382b80206b286bf428aa6f097af6a.jpg: 640x640 1 500 Rupees, 9.2ms\n",
            "image 216/297 /content/dataset/test/images/500__380_jpg.rf.24f7d8a38b7320c9a251331e5d7b16e1.jpg: 640x640 1 500 Rupees, 10.1ms\n",
            "image 217/297 /content/dataset/test/images/500__384_jpg.rf.dc1ca91e5b5b3b73dd78a625cde73b76.jpg: 640x640 1 500 Rupees, 10.7ms\n",
            "image 218/297 /content/dataset/test/images/500__395_jpg.rf.e086c01cad40e0e607708df844d25ce2.jpg: 640x640 1 500 Rupees, 8.8ms\n",
            "image 219/297 /content/dataset/test/images/500__402_jpg.rf.7f38b6e4b459192f918460a816aafb40.jpg: 640x640 1 500 Rupees, 14.8ms\n",
            "image 220/297 /content/dataset/test/images/500__435_jpg.rf.2df73049b4d9018a3b7672b0325e7ed9.jpg: 640x640 1 500 Rupees, 10.2ms\n",
            "image 221/297 /content/dataset/test/images/500__51_jpg.rf.36bbce13c40b03e5f5998b7dc668d11d.jpg: 640x640 1 500 Rupees, 16.5ms\n",
            "image 222/297 /content/dataset/test/images/500__69_jpg.rf.986c77569ac153464a7efdce50d9fefe.jpg: 640x640 1 500 Rupees, 18.8ms\n",
            "image 223/297 /content/dataset/test/images/500__93_jpg.rf.707e942e5744285261816a1c4f29d948.jpg: 640x640 1 500 Rupees, 15.3ms\n",
            "image 224/297 /content/dataset/test/images/500_val_15_jpg.rf.33d11151129a29efd444fca466572ba4.jpg: 640x640 1 500 Rupees, 14.1ms\n",
            "image 225/297 /content/dataset/test/images/500_val_17_jpg.rf.01a5cef70c675f068011dd0692487b31.jpg: 640x640 1 500 Rupees, 14.4ms\n",
            "image 226/297 /content/dataset/test/images/500_val_30_jpg.rf.3d7d1d450f8af104190a76803d1df88b.jpg: 640x640 1 500 Rupees, 14.9ms\n",
            "image 227/297 /content/dataset/test/images/500_val_43_jpg.rf.2a79c0bfc9bf65429207adee639c3929.jpg: 640x640 1 500 Rupees, 18.9ms\n",
            "image 228/297 /content/dataset/test/images/500_val_4_jpg.rf.ad94cc56e5c46169955911fa00a2a0d8.jpg: 640x640 1 500 Rupees, 21.5ms\n",
            "image 229/297 /content/dataset/test/images/50__100_jpg.rf.699303945525ef351395ac17722214dc.jpg: 640x640 1 50 Rupees, 17.8ms\n",
            "image 230/297 /content/dataset/test/images/50__107_jpg.rf.43b7ef25b9981b664c54624a4351cdb2.jpg: 640x640 1 50 Rupees, 14.2ms\n",
            "image 231/297 /content/dataset/test/images/50__119_jpg.rf.c8218bdcf18bf1f411a284784f3c0ebf.jpg: 640x640 1 50 Rupees, 17.2ms\n",
            "image 232/297 /content/dataset/test/images/50__126_jpg.rf.323c8d7e4ad4cc109708bb8511e518ed.jpg: 640x640 1 50 Rupees, 21.7ms\n",
            "image 233/297 /content/dataset/test/images/50__12_jpg.rf.31f70ec001336608da5c16a12d64c4d7.jpg: 640x640 1 50 Rupees, 18.7ms\n",
            "image 234/297 /content/dataset/test/images/50__131_jpg.rf.979d47ff642365372cc840b6f2a76293.jpg: 640x640 1 50 Rupees, 16.2ms\n",
            "image 235/297 /content/dataset/test/images/50__142_jpg.rf.1aa9a8e001a91fa0f60cf850fb08b35e.jpg: 640x640 1 50 Rupees, 14.0ms\n",
            "image 236/297 /content/dataset/test/images/50__169_jpg.rf.028dffcc7978669693ff160475fd0fa7.jpg: 640x640 1 50 Rupees, 14.4ms\n",
            "image 237/297 /content/dataset/test/images/50__172_jpg.rf.fc455cdf5b97affa52ec61b03c1b990f.jpg: 640x640 1 new50 Rupees, 13.3ms\n",
            "image 238/297 /content/dataset/test/images/50__173_jpg.rf.645258f8926852dc79a20b825ef9ac5f.jpg: 640x640 1 new50 Rupees, 13.7ms\n",
            "image 239/297 /content/dataset/test/images/50__181_jpg.rf.15c92d290d239e010cfdd437fecf92d0.jpg: 640x640 1 new50 Rupees, 15.4ms\n",
            "image 240/297 /content/dataset/test/images/50__190_jpg.rf.b84c1063dc1820165fc353b4b8165586.jpg: 640x640 1 50 Rupees, 14.0ms\n",
            "image 241/297 /content/dataset/test/images/50__192_jpg.rf.eacbd810b0b81a51c9d3046b498f9b47.jpg: 640x640 2 50 Rupeess, 15.0ms\n",
            "image 242/297 /content/dataset/test/images/50__193_jpg.rf.2a900a3ca1ac8343fb6d5473943b10c8.jpg: 640x640 1 50 Rupees, 19.9ms\n",
            "image 243/297 /content/dataset/test/images/50__196_jpg.rf.49c887d42dcac7c448747981c2365d36.jpg: 640x640 1 50 Rupees, 14.4ms\n",
            "image 244/297 /content/dataset/test/images/50__197_jpg.rf.c5a4a2335f2e2be5164bdf911bedab7d.jpg: 640x640 1 50 Rupees, 10.6ms\n",
            "image 245/297 /content/dataset/test/images/50__19_jpg.rf.4362f6d23d14496d3477b908ba9c4a26.jpg: 640x640 1 50 Rupees, 15.5ms\n",
            "image 246/297 /content/dataset/test/images/50__202_jpg.rf.bbee327d790d04620ba7fbab2df4a767.jpg: 640x640 1 50 Rupees, 14.8ms\n",
            "image 247/297 /content/dataset/test/images/50__20_jpg.rf.ae4f09975e9245b1b0cf406a5b55c5f1.jpg: 640x640 1 50 Rupees, 10.0ms\n",
            "image 248/297 /content/dataset/test/images/50__211_jpg.rf.2de759b979f23e42ad05115f4459f177.jpg: 640x640 1 50 Rupees, 10.2ms\n",
            "image 249/297 /content/dataset/test/images/50__215_jpg.rf.6810ea71ecc661709ab55a57e98fb51d.jpg: 640x640 1 50 Rupees, 9.3ms\n",
            "image 250/297 /content/dataset/test/images/50__223_jpg.rf.1ad78948620994e9ed462864d1da600f.jpg: 640x640 1 50 Rupees, 14.4ms\n",
            "image 251/297 /content/dataset/test/images/50__231_jpg.rf.f6970ec6b4dedf17de7cdacec638fb29.jpg: 640x640 1 50 Rupees, 17.8ms\n",
            "image 252/297 /content/dataset/test/images/50__236_jpg.rf.ee89749cb155efd44ee4d78fcd1ba6bf.jpg: 640x640 1 50 Rupees, 17.4ms\n",
            "image 253/297 /content/dataset/test/images/50__238_jpg.rf.d7366ab2a6ff8deccd38a33d3236aa40.jpg: 640x640 1 50 Rupees, 14.5ms\n",
            "image 254/297 /content/dataset/test/images/50__241_jpg.rf.1b06ba2fa6d2fa62e6de0338707d1b48.jpg: 640x640 1 50 Rupees, 14.9ms\n",
            "image 255/297 /content/dataset/test/images/50__244_jpg.rf.6caec6b95317811a63a8ad103cdeb735.jpg: 640x640 1 50 Rupees, 15.4ms\n",
            "image 256/297 /content/dataset/test/images/50__24_jpg.rf.9cffc8e32b030f01a932951237f92c34.jpg: 640x640 1 50 Rupees, 16.7ms\n",
            "image 257/297 /content/dataset/test/images/50__263_jpg.rf.94cbe5913ffa65d7ea96e6477fd5c480.jpg: 640x640 1 50 Rupees, 16.2ms\n",
            "image 258/297 /content/dataset/test/images/50__264_jpg.rf.e0d1e9e99c04db79119010cd4296d68f.jpg: 640x640 1 50 Rupees, 20.2ms\n",
            "image 259/297 /content/dataset/test/images/50__269_jpg.rf.8d6b44cd82d492a0a6a54311c6ec2f00.jpg: 640x640 1 50 Rupees, 12.3ms\n",
            "image 260/297 /content/dataset/test/images/50__270_jpg.rf.edab35cbf85ab302809f2ce6c3537bc6.jpg: 640x640 1 50 Rupees, 15.1ms\n",
            "image 261/297 /content/dataset/test/images/50__271_jpg.rf.8bbc802fb1436b998e23ba385407f778.jpg: 640x640 1 50 Rupees, 11.5ms\n",
            "image 262/297 /content/dataset/test/images/50__275_jpg.rf.eb73f46425f26d61d54968dc8ab0ecaa.jpg: 640x640 1 new50 Rupees, 15.7ms\n",
            "image 263/297 /content/dataset/test/images/50__280_jpg.rf.3a2e0efb3617c65750d86edc68693bb7.jpg: 640x640 1 new50 Rupees, 17.3ms\n",
            "image 264/297 /content/dataset/test/images/50__281_jpg.rf.aa12d5f0214d26f4459ad7b5e6267363.jpg: 640x640 1 50 Rupees, 16.1ms\n",
            "image 265/297 /content/dataset/test/images/50__282_jpg.rf.cb2d9a89b9fb23254e4f9afa6f6f2e2c.jpg: 640x640 1 50 Rupees, 1 new50 Rupees, 12.6ms\n",
            "image 266/297 /content/dataset/test/images/50__288_jpg.rf.6c78a2c6fface61c011cc4e9337587cf.jpg: 640x640 1 new50 Rupees, 12.4ms\n",
            "image 267/297 /content/dataset/test/images/50__290_jpg.rf.aaf01f150b00114299737f633be7a439.jpg: 640x640 3 new50 Rupeess, 16.2ms\n",
            "image 268/297 /content/dataset/test/images/50__304_jpg.rf.f27b94b44ad4198fe00617e0a6a797b8.jpg: 640x640 2 new50 Rupeess, 12.5ms\n",
            "image 269/297 /content/dataset/test/images/50__309_jpg.rf.35c2a599e7e95c2d7c7cdea557435470.jpg: 640x640 2 new50 Rupeess, 21.2ms\n",
            "image 270/297 /content/dataset/test/images/50__30_jpg.rf.a34056dee1a59b7ac93ccd882fc79663.jpg: 640x640 1 50 Rupees, 12.8ms\n",
            "image 271/297 /content/dataset/test/images/50__311_jpg.rf.1df460a5a6a31f8950c4a50c0aa4fe8d.jpg: 640x640 1 new50 Rupees, 16.4ms\n",
            "image 272/297 /content/dataset/test/images/50__317_jpg.rf.52bd0ead23940436c2d566f3f1bc6c11.jpg: 640x640 1 50 Rupees, 15.6ms\n",
            "image 273/297 /content/dataset/test/images/50__319_jpg.rf.22e7c7a0d05fd36d7ed2fc6b63094eb3.jpg: 640x640 1 50 Rupees, 12.1ms\n",
            "image 274/297 /content/dataset/test/images/50__330_jpg.rf.dc7b28edc705a5b6c5487812c01d86f0.jpg: 640x640 1 new50 Rupees, 14.5ms\n",
            "image 275/297 /content/dataset/test/images/50__332_jpg.rf.d4f2a993bad58a90b5ae6d70d473dc08.jpg: 640x640 1 100 Rupees, 14.1ms\n",
            "image 276/297 /content/dataset/test/images/50__335_jpg.rf.a860ccf46b4ef35545b44f9e208a7e40.jpg: 640x640 1 50 Rupees, 15.0ms\n",
            "image 277/297 /content/dataset/test/images/50__336_jpg.rf.a3ae2c552047bf0bb7ef7379583a406c.jpg: 640x640 1 new50 Rupees, 15.5ms\n",
            "image 278/297 /content/dataset/test/images/50__341_jpg.rf.e0c1a259d1ed5fd9520994b71ceeb0ed.jpg: 640x640 1 new50 Rupees, 15.8ms\n",
            "image 279/297 /content/dataset/test/images/50__350_jpg.rf.0901bb3e10eebc35e8661a57db031433.jpg: 640x640 1 50 Rupees, 1 new50 Rupees, 21.2ms\n",
            "image 280/297 /content/dataset/test/images/50__364_jpg.rf.3aff58a5eb473ad10e961cac683841b4.jpg: 640x640 1 new50 Rupees, 21.5ms\n",
            "image 281/297 /content/dataset/test/images/50__378_jpg.rf.6bafc8ff9b6caa13e8dfa30758d3f535.jpg: 640x640 1 new50 Rupees, 20.5ms\n",
            "image 282/297 /content/dataset/test/images/50__379_jpg.rf.a59213a9a472c2f8a31150d8f0643014.jpg: 640x640 1 new50 Rupees, 15.6ms\n",
            "image 283/297 /content/dataset/test/images/50__389_jpg.rf.b5c13dd813b82666d3c46d57393cecab.jpg: 640x640 1 50 Rupees, 1 new50 Rupees, 18.9ms\n",
            "image 284/297 /content/dataset/test/images/50__38_jpg.rf.ec8dfc43e80baad530080d187af6405a.jpg: 640x640 1 50 Rupees, 11.1ms\n",
            "image 285/297 /content/dataset/test/images/50__390_jpg.rf.3019d8eedbcc4b310c20ec60f5ae4d85.jpg: 640x640 1 50 Rupees, 1 new50 Rupees, 10.1ms\n",
            "image 286/297 /content/dataset/test/images/50__392_jpg.rf.631f55d7b8067c97f8e8b2c92d8648f0.jpg: 640x640 1 new50 Rupees, 11.6ms\n",
            "image 287/297 /content/dataset/test/images/50__399_jpg.rf.b115ec1d6ebbdc3025701a9f48703e49.jpg: 640x640 1 new50 Rupees, 11.5ms\n",
            "image 288/297 /content/dataset/test/images/50__3_jpg.rf.f009a8ad4522d44ead9ba39f66ba4a26.jpg: 640x640 1 50 Rupees, 16.4ms\n",
            "image 289/297 /content/dataset/test/images/50__412_jpg.rf.cbd2cee39dfba212bc953f62fe83bcdd.jpg: 640x640 1 new50 Rupees, 13.0ms\n",
            "image 290/297 /content/dataset/test/images/50__427_jpg.rf.876c58a0f25f4326cecb5a245c3ebc18.jpg: 640x640 1 new50 Rupees, 13.5ms\n",
            "image 291/297 /content/dataset/test/images/50__437_jpg.rf.5a8f178c57fad7d6fd1f5855d4dae71e.jpg: 640x640 1 new50 Rupees, 8.2ms\n",
            "image 292/297 /content/dataset/test/images/50__441_jpg.rf.7ca2be9f97956647253047206267aadf.jpg: 640x640 1 new50 Rupees, 7.9ms\n",
            "image 293/297 /content/dataset/test/images/50__44_jpg.rf.480f128888ae825ae5cff785ba001719.jpg: 640x640 1 50 Rupees, 7.4ms\n",
            "image 294/297 /content/dataset/test/images/50__54_jpg.rf.024f62d526fae24ba3ea0a53389308df.jpg: 640x640 1 50 Rupees, 7.5ms\n",
            "image 295/297 /content/dataset/test/images/50__62_jpg.rf.0fcf0ef05481ec061b31ef8bc6ee343b.jpg: 640x640 1 50 Rupees, 10.6ms\n",
            "image 296/297 /content/dataset/test/images/50__66_jpg.rf.242aa5e9787a6f21afbc164d4d373271.jpg: 640x640 1 50 Rupees, 7.5ms\n",
            "image 297/297 /content/dataset/test/images/50__78_jpg.rf.7b0f43b922cdf253ec003d78425accac.jpg: 640x640 1 50 Rupees, 12.0ms\n",
            "Speed: 2.5ms preprocess, 11.0ms inference, 1.7ms postprocess per image at shape (1, 3, 640, 640)\n",
            "Results saved to \u001b[1mruns/detect/train3\u001b[0m\n"
          ]
        }
      ],
      "source": [
        "results = model.predict(source=\"/content/dataset/test/images\", save=True)\n"
      ]
    }
  ],
  "metadata": {
    "accelerator": "GPU",
    "colab": {
      "collapsed_sections": [
        "8nhuoTK1pSIV",
        "N262r2a-qNho",
        "t2Z2zWKbr9Bv"
      ],
      "gpuType": "T4",
      "provenance": []
    },
    "kernelspec": {
      "display_name": "Python 3",
      "name": "python3"
    },
    "language_info": {
      "name": "python"
    }
  },
  "nbformat": 4,
  "nbformat_minor": 0
}